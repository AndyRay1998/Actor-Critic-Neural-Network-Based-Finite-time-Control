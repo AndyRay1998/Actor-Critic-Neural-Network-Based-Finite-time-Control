{
 "cells": [
  {
   "cell_type": "code",
   "execution_count": 1,
   "metadata": {},
   "outputs": [],
   "source": [
    "import numpy as np\n",
    "import matplotlib.pyplot as plt\n",
    "import random\n",
    "%matplotlib inline"
   ]
  },
  {
   "cell_type": "code",
   "execution_count": 2,
   "metadata": {},
   "outputs": [],
   "source": [
    "# hidden layer number\n",
    "degree = 25\n",
    "# variance\n",
    "sigma = 1.\n",
    "# randomized center between [-10,10]\n",
    "#np.random.seed(13)\n",
    "#centers = np.random.random(size=(degree, 2)) * 10 - 5\n",
    "center_l = []\n",
    "for i in range(0, 20, 4):\n",
    "    for j in range(0, 20, 4):\n",
    "        center_l.append([i-10, j-10])\n",
    "centers = np.array(center_l)"
   ]
  },
  {
   "cell_type": "code",
   "execution_count": 3,
   "metadata": {},
   "outputs": [
    {
     "data": {
      "text/plain": [
       "<matplotlib.collections.PathCollection at 0x20f63785be0>"
      ]
     },
     "execution_count": 3,
     "metadata": {},
     "output_type": "execute_result"
    },
    {
     "data": {
      "image/png": "[encoded data removed]",
      "text/plain": [
       "<Figure size 432x288 with 1 Axes>"
      ]
     },
     "metadata": {
      "needs_background": "light"
     },
     "output_type": "display_data"
    }
   ],
   "source": [
    "plt.scatter(centers[:,0], centers[:,1])"
   ]
  },
  {
   "cell_type": "code",
   "execution_count": 4,
   "metadata": {},
   "outputs": [],
   "source": [
    "def kernel_func(center, data_point):\n",
    "    # gaussian kernel function\n",
    "    result = np.exp( -sigma * np.linalg.norm(center-data_point, axis=1) **2 )\n",
    "    return result / np.sum(result)"
   ]
  },
  {
   "cell_type": "markdown",
   "metadata": {},
   "source": [
    "# manipulator"
   ]
  },
  {
   "cell_type": "code",
   "execution_count": 5,
   "metadata": {},
   "outputs": [],
   "source": [
    "def cal_H(theta2):\n",
    "    c2 = np.cos(theta2)\n",
    "    H = np.array([[1/3*m1*l1*l1+m2*l1*l1+1/3*m2*l2*l2+m2*l1*l2*c2, 1/3*m2*l2*l2+0.5*m2*l1*l2*c2],\n",
    "                 [1/3*m2*l2*l2+1/2*m2*l1*l2*c2, 1/3*m2*l2*l2]])\n",
    "    return H"
   ]
  },
  {
   "cell_type": "code",
   "execution_count": 6,
   "metadata": {},
   "outputs": [],
   "source": [
    "def cal_C(q1_dot, q2_dot, theta2):\n",
    "    c2 = np.cos(theta2)\n",
    "    s2 = np.sin(theta2)\n",
    "    h = -0.5*m2*l1*l2*s2\n",
    "    C = np.array([[h*q2_dot, h*(q1_dot+q2_dot)],\n",
    "                 [-h*q1_dot, 0]])\n",
    "    return C"
   ]
  },
  {
   "cell_type": "code",
   "execution_count": 7,
   "metadata": {},
   "outputs": [],
   "source": [
    "def cal_G(theta1, theta2):\n",
    "    c1 = np.cos(theta1)\n",
    "    c2 = np.cos(theta2)\n",
    "    c12 = np.cos(theta1+theta2)\n",
    "    g = 9.8\n",
    "    G = np.array([[0.5*m1*g*l1*c1+m2*g*l1*c1+0.5*m2*g*l2*c12],\n",
    "                 [0.5*m2*g*l2*c12]])\n",
    "    return G"
   ]
  },
  {
   "cell_type": "markdown",
   "metadata": {},
   "source": [
    "# initialization"
   ]
  },
  {
   "cell_type": "code",
   "execution_count": 139,
   "metadata": {},
   "outputs": [],
   "source": [
    "q1_dot_list = []\n",
    "q2_dot_list = []\n",
    "q1_list = []\n",
    "q2_list = []\n",
    "torque1_list = []\n",
    "torque2_list = []\n",
    "s1 = []\n",
    "s2 = []\n",
    "time_list = []\n",
    "error_list = []\n",
    "s1_rl_list = []\n",
    "s2_rl_list = []\n",
    "critic_l = []\n",
    "\n",
    "# param\n",
    "m1 = 1\n",
    "m2 = 2\n",
    "l1 = 2\n",
    "l2 = 2\n",
    "g = 9.8\n",
    "\n",
    "\n",
    "# state\n",
    "q = np.array([[0.01], [0.01]], dtype=np.float32)\n",
    "q_dot = np.array([[0], [0]], dtype=np.float32)\n",
    "q_dot_dot = np.array([[0], [0]], dtype=np.float32)\n",
    "\n",
    "# target\n",
    "q_d = np.array([[1], [2]], dtype=np.float32)\n",
    "q_d_d = np.array([[0], [0]], dtype=np.float32)\n",
    "q_d_dd= np.array([[0], [0]], dtype=np.float32)\n",
    "\n",
    "\n",
    "\n",
    "# perturbance estimation\n",
    "F_est = 0\n",
    "F_est_dot = 0\n",
    "gama = 10\n",
    "F_ = 1\n",
    "\n",
    "c1 = 2\n",
    "g = 1.8\n",
    "p = 0.8\n",
    "\n",
    "# time interval\n",
    "del_t = 0.001\n",
    "\n",
    "\n",
    "############ RL param ##############\n",
    "Wck = np.ones((degree, 1)) * 0.1\n",
    "Wak = np.ones((degree, 1)) * 0.1\n",
    "Gk = np.zeros((degree, 1))\n",
    "rk = 0\n",
    "\n",
    "Pk = np.random.random((degree, 1))\n",
    "Pk = np.ones((degree, 1)) * 0\n",
    "mu = 0.5\n",
    "beta = 0.5\n",
    "ka = 0.001\n",
    "#lr_c = 0.08\n",
    "#lr_a = 0.4\n",
    "lr_c = 0.08\n",
    "lr_a = 0.3\n",
    "\n",
    "epsilon = 0.1\n",
    "yak = 0\n",
    "psi_c_prev = np.zeros((degree, 1))\n",
    "psi_a_prev = np.zeros((degree, 1))\n",
    "psi_c = np.zeros((degree, 1))\n",
    "psi_a = np.zeros((degree, 1))\n",
    "\n",
    "###### 2nd dof #######\n",
    "Wck_ = np.ones((degree, 1)) * 0.1\n",
    "Wak_ = np.ones((degree, 1)) * 0.1\n",
    "Gk_ = np.zeros((degree, 1))\n",
    "rk_ = 0\n",
    "\n",
    "Pk_ = np.random.random((degree, 1))\n",
    "Pk_ = np.ones((degree, 1)) * 0\n",
    "\n",
    "epsilon_ = 0.1\n",
    "yak_ = 0\n",
    "psi_c_prev_ = np.zeros((degree, 1))\n",
    "psi_a_prev_ = np.zeros((degree, 1))\n",
    "psi_c_ = np.zeros((degree, 1))\n",
    "psi_a_ = np.zeros((degree, 1))\n",
    "\n",
    "# record last step\n",
    "psi_c_l = [psi_c, psi_c]\n",
    "psi_a_l = [psi_a, psi_c]\n",
    "rk_l = [rk, rk]\n",
    "Wck_l = [Wck, Wck]\n",
    "Wak_l = [Wak, Wak]\n",
    "\n",
    "psi_c_l_ = [psi_c_, psi_c_]\n",
    "psi_a_l_ = [psi_a_, psi_c_]  \n",
    "rk_l_ = [rk_, rk_]\n",
    "Wck_l_ = [Wck_, Wck_]\n",
    "Wak_l_ = [Wak_, Wak_]"
   ]
  },
  {
   "cell_type": "code",
   "execution_count": 140,
   "metadata": {},
   "outputs": [],
   "source": [
    "for i in range(15000):\n",
    "    \n",
    "    time_list.append(i * del_t)\n",
    "    \n",
    "    \n",
    "    # 正弦目标\n",
    "    q_d = np.ones((2,1))\n",
    "    q_d[0][0] *= np.sin(2*i*del_t)\n",
    "    q_d[1][0] *= np.sin(3*i*del_t)\n",
    "    q_d_d = np.ones((2,1))\n",
    "    q_d_d[0][0] *= 2 * np.cos(2*i*del_t)\n",
    "    q_d_d[1][0] *= 3 * np.cos(3*i*del_t)\n",
    "    q_d_dd = - np.ones((2,1))\n",
    "    q_d_dd[0][0] *= 4 * np.sin(2*i*del_t)\n",
    "    q_d_dd[1][0] *= 9 * np.sin(3*i*del_t)\n",
    "    \n",
    "    \n",
    "    \n",
    "    \n",
    "    z1_dot = q_dot - q_d_d\n",
    "    z1 = q - q_d\n",
    "    z2 = q_dot + c1 * z1 - q_d_d\n",
    "\n",
    "    delt_u = 1\n",
    "    ###########   1DOF   #################\n",
    "    '''RL'''\n",
    "    \n",
    "    # update\n",
    "    # s = z1_dot + 10 * z1\n",
    "    # s = z2 + np.sign(z1) * abs(z1) ** g\n",
    "    s = (z1_dot + 6 * z1) / 2\n",
    "    \n",
    "    # RBF network result\n",
    "    psi_c = kernel_func(centers, s.T).reshape((-1,1))\n",
    "    psi_a = kernel_func(centers, s.T).reshape((-1,1))\n",
    "    \n",
    "    # rk and TD error update\n",
    "    if(abs(s[0][0])<0.5):\n",
    "        rk = -(1 / (1+np.exp(-(s[0][0]))) - 0.5) * 1000\n",
    "    else:\n",
    "        rk = -(1 / (1+np.exp(-(s[0][0]))) - 0.5) * 50\n",
    "    \n",
    "    # rk = -s[0][0] * 5\n",
    "    tde = rk + beta * Wck.T.dot(psi_c) - Wck.T.dot(psi_c_l[-1])\n",
    "\n",
    "    Q_prev = Wck.T.dot(psi_c_l[-1])\n",
    "    \n",
    "    #Wck = Wck - lr_c*psi_c_l[-1].dot( (Q_prev+beta**(i+1)*rk_l[-1]-0.5* Wck_l[-2].T.dot(psi_c_l[-2]).T ) )\n",
    "    \n",
    "    #Gk = Pk.dot(np.linalg.inv(mu + (psi_c_l[-1].T - beta*psi_c.T).dot(Pk)))\n",
    "    #Pk = (Pk - Gk.dot(psi_c_l[-1].T - beta*psi_c.T).dot(Pk)) / mu\n",
    "    #Wck = Wck + Gk.dot(rk_l[-1] + (psi_c_l[-1].T - beta*psi_c.T).dot(Wck))\n",
    "    \n",
    "    Wck = Wck + lr_c*tde*psi_c_l[-1]\n",
    "    \n",
    "    #Wck = Wck - lr_c * tde * (psi_c_l[-1] - beta*psi_c)\n",
    "    \n",
    "    Wak = Wak + lr_a*tde*psi_a_l[-1]\n",
    "    \n",
    "    \n",
    "    yak = psi_a_l[-1].T.dot(Wak_l[-1])\n",
    "    \n",
    "    # print(yak)\n",
    "    # print(rk_l[-1] + (psi_c_l[-1].T - gama_*psi_c.T).dot(Wck))\n",
    "    # print(rk)\n",
    "    critic_l.append(float(Q_prev))\n",
    "    \n",
    "    # record last step\n",
    "    psi_c_l.append(psi_c)\n",
    "    psi_a_l.append(psi_a)\n",
    "    rk_l.append(rk)\n",
    "    Wck_l.append(Wck)\n",
    "    Wak_l.append(Wak)\n",
    "    del(psi_c_l[0])\n",
    "    del(psi_a_l[0])\n",
    "    del(rk_l[0])\n",
    "    del(Wck_l[0])\n",
    "    del(Wak_l[0])\n",
    "    \n",
    "    #############   2DOF   ##############################\n",
    "    #s = z2 + np.sign(z1) * abs(z1) ** g\n",
    "    # s = z1_dot + 10 * z1\n",
    "\n",
    "    psi_c_ = kernel_func(centers, s.T).reshape((-1,1))\n",
    "    psi_a_ = kernel_func(centers, s.T).reshape((-1,1))\n",
    "    \n",
    "    if(abs(s[1][0])<0.5):\n",
    "        rk_ = -(1 / (1+np.exp(-(s[1][0]))) - 0.5) * 1000\n",
    "    else:\n",
    "        rk_ = -(1 / (1+np.exp(-(s[1][0]))) - 0.5) * 50\n",
    "    # rk_ = -s[1][0] * 5\n",
    "    tde_ = rk_ + beta * Wck_.T.dot(psi_c_) - Wck_.T.dot(psi_c_l_[-1])\n",
    "\n",
    "    Q_prev_ = Wck_.T.dot(psi_c_l_[-1])\n",
    "    \n",
    "    #Wck_ = Wck_ - lr_c*psi_c_l_[-1].dot( (Q_prev_+beta**(i+1)*rk_l_[-1]-0.5* Wck_l_[-2].T.dot(psi_c_l_[-2]).T ) )\n",
    "    \n",
    "    #Gk_ = Pk_.dot(np.linalg.inv(mu + (psi_c_l_[-1].T - beta*psi_c_.T).dot(Pk_)))\n",
    "    #Pk_ = (Pk_ - Gk_.dot(psi_c_l_[-1].T - beta*psi_c_.T).dot(Pk_)) / mu\n",
    "    #Wck_ = Wck_ + Gk_.dot(rk_l_[-1] + (psi_c_l_[-1].T - beta*psi_c_.T).dot(Wck_))\n",
    "    \n",
    "    Wck_ = Wck_ + lr_c*tde_*psi_c_l_[-1]\n",
    "    \n",
    "    # Wck_ = Wck_ - lr_c * tde_ * (psi_c_l[-1] - beta*psi_c)\n",
    "    \n",
    "    Wak_ = Wak_ + lr_a * tde_ *psi_a_l_[-1]\n",
    "    \n",
    "    yak_ = psi_a_l_[-1].T.dot(Wak_l_[-1])\n",
    "    \n",
    "    \n",
    "    \n",
    "    #print(yak)\n",
    "    #print(rk)\n",
    "    #print(Q_prev_)\n",
    "    #print(rk)\n",
    "    \n",
    "    \n",
    "    # record last step\n",
    "    psi_c_l_.append(psi_c_)\n",
    "    psi_a_l_.append(psi_a_)\n",
    "    rk_l_.append(rk_)\n",
    "    Wck_l_.append(Wck_)\n",
    "    Wak_l_.append(Wak_)\n",
    "    del(psi_c_l_[0])\n",
    "    del(psi_a_l_[0])\n",
    "    del(rk_l_[0])\n",
    "    del(Wck_l_[0])\n",
    "    del(Wak_l_[0])\n",
    "\n",
    "    \n",
    "    ############### finite time control ############################\n",
    "    s = z2 + np.sign(z1) * abs(z1) ** g\n",
    "    # control law\n",
    "    torque = cal_C(q_dot[0][0], q_dot[1][0], q[1][0]).dot(q_dot) + cal_G(q[0][0], q[1][0]) + cal_H(q[1][0]).dot(- c1*z1_dot + q_d_dd - g*abs(z1)**(g-1)*(z2-c1*z1) -0.5*np.sign(s)*abs(s)**p)\n",
    "    \n",
    "    torque[0][0] += yak\n",
    "    torque[1][0] += yak_\n",
    "    \n",
    "    torque_a = torque - cal_G(q[0][0], q[1][0]) - cal_C(q_dot[0][0], q_dot[1][0], q[1][0]).dot(q_dot)\n",
    "    \n",
    "    #torque_a[0][0] = yak\n",
    "    #torque_a[1][0] = yak_\n",
    "    \n",
    "    # 随机扰动\n",
    "    # error = random.random() * F_\n",
    "    # 正弦扰动\n",
    "    error = F_ * np.sin(10 *i*del_t)\n",
    "    \n",
    "    q_dot_dot = np.linalg.inv(cal_H(q[1][0])).dot(torque_a) + error\n",
    "    q_dot = q_dot + q_dot_dot * del_t\n",
    "    q = q + q_dot * del_t + 0.5 * q_dot_dot * del_t**2\n",
    "    '''\n",
    "    while(q[0][0] > np.pi):\n",
    "        q[0][0] -= np.pi*2\n",
    "    while(q[0][0] < -np.pi):\n",
    "        q[0][0] += np.pi*2\n",
    "    while(q[1][0] > np.pi):\n",
    "        q[1][0] -= np.pi*2\n",
    "    while(q[1][0] < -np.pi):\n",
    "        q[1][0] += np.pi*2\n",
    "        '''\n",
    "    \n",
    "    # record for visualization\n",
    "    s1.append(s[0][0])\n",
    "    s2.append(s[1][0])\n",
    "    \n",
    "    q1_dot_list.append(q_dot[0][0] - q_d_d[0][0])\n",
    "    q2_dot_list.append(q_dot[1][0] - q_d_d[1][0])\n",
    "    q1_list.append(q[0][0] - q_d[0][0])\n",
    "    q2_list.append(q[1][0] - q_d[1][0])\n",
    "    #torque1_list.append(torque[0][0])\n",
    "    #torque2_list.append(torque[1][0])\n",
    "    torque1_list.append(torque[0][0])\n",
    "    torque2_list.append(torque[1][0])\n",
    "    error_list.append(error)\n",
    "    "
   ]
  },
  {
   "cell_type": "code",
   "execution_count": 141,
   "metadata": {
    "scrolled": true
   },
   "outputs": [
    {
     "data": {
      "text/plain": [
       "<matplotlib.legend.Legend at 0x1bfb2e5d2b0>"
      ]
     },
     "execution_count": 141,
     "metadata": {},
     "output_type": "execute_result"
    },
    {
     "data": {
      "image/png": "[encoded data removed]",
      "text/plain": [
       "<Figure size 432x288 with 1 Axes>"
      ]
     },
     "metadata": {
      "needs_background": "light"
     },
     "output_type": "display_data"
    }
   ],
   "source": [
    "plt.suptitle('Sliding mode variable')\n",
    "plt.plot(time_list, s1, label=\"s1\")\n",
    "plt.plot(time_list, s2, label=\"s2\")\n",
    "plt.xlabel('time/s')\n",
    "plt.legend()"
   ]
  },
  {
   "cell_type": "code",
   "execution_count": 142,
   "metadata": {
    "scrolled": true
   },
   "outputs": [
    {
     "data": {
      "text/plain": [
       "<matplotlib.legend.Legend at 0x1bfb7857d00>"
      ]
     },
     "execution_count": 142,
     "metadata": {},
     "output_type": "execute_result"
    },
    {
     "data": {
      "image/png": "[encoded data removed]",
      "text/plain": [
       "<Figure size 432x288 with 1 Axes>"
      ]
     },
     "metadata": {
      "needs_background": "light"
     },
     "output_type": "display_data"
    }
   ],
   "source": [
    "plt.suptitle('Sliding mode variable')\n",
    "plt.plot(time_list[6000:8000], s1[6000:8000], label=\"s1\")\n",
    "plt.plot(time_list[6000:8000], s2[6000:8000], label=\"s2\")\n",
    "plt.xlabel('time/s')\n",
    "plt.legend()"
   ]
  },
  {
   "cell_type": "code",
   "execution_count": 143,
   "metadata": {},
   "outputs": [
    {
     "data": {
      "text/plain": [
       "<matplotlib.legend.Legend at 0x1bfb8a61d30>"
      ]
     },
     "execution_count": 143,
     "metadata": {},
     "output_type": "execute_result"
    },
    {
     "data": {
      "image/png": "[encoded data removed]",
      "text/plain": [
       "<Figure size 432x288 with 1 Axes>"
      ]
     },
     "metadata": {
      "needs_background": "light"
     },
     "output_type": "display_data"
    }
   ],
   "source": [
    "plt.suptitle('Torque')\n",
    "plt.plot(time_list, torque1_list, label=\"torque1\")\n",
    "plt.plot(time_list, torque2_list, label=\"torque2\")\n",
    "plt.xlabel('time/s')\n",
    "plt.ylabel('N * m')\n",
    "plt.legend()"
   ]
  },
  {
   "cell_type": "code",
   "execution_count": 144,
   "metadata": {},
   "outputs": [
    {
     "data": {
      "text/plain": [
       "<matplotlib.legend.Legend at 0x1bfb8ac64c0>"
      ]
     },
     "execution_count": 144,
     "metadata": {},
     "output_type": "execute_result"
    },
    {
     "data": {
      "image/png": "[encoded data removed]",
      "text/plain": [
       "<Figure size 432x288 with 1 Axes>"
      ]
     },
     "metadata": {
      "needs_background": "light"
     },
     "output_type": "display_data"
    }
   ],
   "source": [
    "plt.suptitle('Angle error')\n",
    "plt.plot(time_list, q1_list, label=\"q1\")\n",
    "plt.plot(time_list, q2_list, label=\"q2\")\n",
    "plt.xlabel('time/s')\n",
    "plt.ylabel('rad')\n",
    "plt.legend()"
   ]
  },
  {
   "cell_type": "code",
   "execution_count": 145,
   "metadata": {},
   "outputs": [
    {
     "data": {
      "text/plain": [
       "<matplotlib.legend.Legend at 0x1bfb8b31280>"
      ]
     },
     "execution_count": 145,
     "metadata": {},
     "output_type": "execute_result"
    },
    {
     "data": {
      "image/png": "[encoded data removed]",
      "text/plain": [
       "<Figure size 432x288 with 1 Axes>"
      ]
     },
     "metadata": {
      "needs_background": "light"
     },
     "output_type": "display_data"
    }
   ],
   "source": [
    "plt.suptitle('Velocity Error')\n",
    "plt.plot(time_list, q1_dot_list, label=\"v1\")\n",
    "plt.plot(time_list, q2_dot_list, label=\"v2\")\n",
    "plt.xlabel('time/s')\n",
    "plt.ylabel('rad / s')\n",
    "plt.legend()"
   ]
  },
  {
   "cell_type": "code",
   "execution_count": 234,
   "metadata": {},
   "outputs": [],
   "source": [
    "Wak = np.array([[  0.24678735],\n",
    "       [  0.85716651],\n",
    "       [  1.8723371 ],\n",
    "       [  2.39119344],\n",
    "       [  6.08267974],\n",
    "       [  5.72840131],\n",
    "       [  6.97791643],\n",
    "       [  8.79259755],\n",
    "       [  7.21137203],\n",
    "       [  6.02266684],\n",
    "       [  5.68467737],\n",
    "       [  1.365817  ],\n",
    "       [  0.51206218],\n",
    "       [  0.99034099],\n",
    "       [  2.04717139],\n",
    "       [  1.16762794],\n",
    "       [  0.77703727],\n",
    "       [  2.21439595],\n",
    "       [  2.58759157],\n",
    "       [  0.13199178],\n",
    "       [  0.50525658],\n",
    "       [  0.10123941],\n",
    "       [  0.12144108],\n",
    "       [  2.61599235],\n",
    "       [  1.80393352],\n",
    "       [  0.60821972],\n",
    "       [  1.35743787],\n",
    "       [  2.49314414],\n",
    "       [  1.28422844],\n",
    "       [  0.10143086],\n",
    "       [  0.10001776],\n",
    "       [  0.10048394],\n",
    "       [  0.28226557],\n",
    "       [  3.9530646 ],\n",
    "       [  2.87739659],\n",
    "       [  5.72650912],\n",
    "       [  4.50027707],\n",
    "       [  2.5360158 ],\n",
    "       [  0.17261195],\n",
    "       [  0.10000534],\n",
    "       [  0.10636847],\n",
    "       [  0.37457789],\n",
    "       [  1.0661917 ],\n",
    "       [  2.76675044],\n",
    "       [  4.48841178],\n",
    "       [ 22.27017029],\n",
    "       [  7.43060271],\n",
    "       [  0.7342019 ],\n",
    "       [  0.10478479],\n",
    "       [  0.12529997],\n",
    "       [ -1.20246449],\n",
    "       [  0.12367804],\n",
    "       [ -0.06542138],\n",
    "       [  0.23702512],\n",
    "       [ -2.87017727],\n",
    "       [ -0.1680608 ],\n",
    "       [  2.40673815],\n",
    "       [  0.15820663],\n",
    "       [  0.20179351],\n",
    "       [ -0.04579072],\n",
    "       [ -0.99114556],\n",
    "       [  0.06229774],\n",
    "       [  0.07476644],\n",
    "       [  0.04696667],\n",
    "       [ -8.19773824],\n",
    "       [-18.26050254],\n",
    "       [ -5.81803674],\n",
    "       [ -0.17220573],\n",
    "       [ -0.742324  ],\n",
    "       [ -1.56500377],\n",
    "       [  0.0995916 ],\n",
    "       [  0.09999604],\n",
    "       [  0.08762429],\n",
    "       [ -1.03507469],\n",
    "       [ -2.23099195],\n",
    "       [ -1.98980936],\n",
    "       [ -3.69489544],\n",
    "       [ -1.20326675],\n",
    "       [ -0.27729919],\n",
    "       [  0.04289125],\n",
    "       [  0.09999934],\n",
    "       [  0.09374684],\n",
    "       [ -0.69766517],\n",
    "       [ -1.27728597],\n",
    "       [ -0.37762279],\n",
    "       [ -1.66482716],\n",
    "       [ -0.40628989],\n",
    "       [  0.07493637],\n",
    "       [  0.05181019],\n",
    "       [ -5.42552949],\n",
    "       [ -0.78852621],\n",
    "       [ -5.93822089],\n",
    "       [ -6.8384097 ],\n",
    "       [ -5.29107124],\n",
    "       [ -5.16989576],\n",
    "       [ -2.74404926],\n",
    "       [ -3.05689778],\n",
    "       [ -2.62252374],\n",
    "       [ -2.16019109],\n",
    "       [ -4.79318544]])\n",
    "\n",
    "Wak_ = np.array([[  0.24683235],\n",
    "       [  0.85639545],\n",
    "       [  1.85920411],\n",
    "       [  2.26775074],\n",
    "       [  4.17320015],\n",
    "       [  0.09365913],\n",
    "       [ -5.25978656],\n",
    "       [ -8.59182726],\n",
    "       [ -7.24178892],\n",
    "       [ -6.06178831],\n",
    "       [  5.68919401],\n",
    "       [  1.36520982],\n",
    "       [  0.51036208],\n",
    "       [  0.90660963],\n",
    "       [  1.73000911],\n",
    "       [  0.01838571],\n",
    "       [ -0.355761  ],\n",
    "       [ -2.02231696],\n",
    "       [ -2.47446281],\n",
    "       [  0.06685033],\n",
    "       [  0.50568808],\n",
    "       [  0.10123924],\n",
    "       [  0.12085235],\n",
    "       [  2.50016778],\n",
    "       [  1.37404207],\n",
    "       [  0.2361642 ],\n",
    "       [ -1.03307102],\n",
    "       [ -2.29792223],\n",
    "       [ -1.12285626],\n",
    "       [  0.09852032],\n",
    "       [  0.10001951],\n",
    "       [  0.10076227],\n",
    "       [  0.296491  ],\n",
    "       [  4.00727711],\n",
    "       [  1.85955226],\n",
    "       [ -0.10526803],\n",
    "       [ -3.18398178],\n",
    "       [ -2.41134167],\n",
    "       [  0.02516609],\n",
    "       [  0.09999062],\n",
    "       [  0.1516143 ],\n",
    "       [  0.66358695],\n",
    "       [  1.39058199],\n",
    "       [  3.56287698],\n",
    "       [  4.12227208],\n",
    "       [ -6.28272838],\n",
    "       [ -6.98588153],\n",
    "       [ -0.63333941],\n",
    "       [  0.04647578],\n",
    "       [ -0.12899549],\n",
    "       [  4.27551117],\n",
    "       [  1.46353239],\n",
    "       [  0.97607082],\n",
    "       [  1.87240991],\n",
    "       [ 14.7106392 ],\n",
    "       [ -0.05981898],\n",
    "       [-11.21085251],\n",
    "       [ -1.5036484 ],\n",
    "       [ -1.17926903],\n",
    "       [ -5.66006239],\n",
    "       [  2.34280974],\n",
    "       [  0.22323695],\n",
    "       [  0.19718592],\n",
    "       [  0.20926075],\n",
    "       [  6.80353398],\n",
    "       [  3.50591033],\n",
    "       [ -4.56750367],\n",
    "       [ -0.19377599],\n",
    "       [ -0.87306176],\n",
    "       [ -2.42186895],\n",
    "       [  0.10079321],\n",
    "       [  0.10000914],\n",
    "       [  0.11163943],\n",
    "       [  1.13758075],\n",
    "       [  1.65831024],\n",
    "       [  0.61910768],\n",
    "       [ -3.06419456],\n",
    "       [ -1.19551663],\n",
    "       [ -0.31515482],\n",
    "       [  0.0354998 ],\n",
    "       [  0.10000063],\n",
    "       [  0.10599075],\n",
    "       [  0.85987951],\n",
    "       [  1.39777375],\n",
    "       [  0.33832883],\n",
    "       [  0.12076093],\n",
    "       [ -0.18406936],\n",
    "       [  0.07652351],\n",
    "       [  0.05197785],\n",
    "       [ -5.4429498 ],\n",
    "       [  0.95342296],\n",
    "       [  5.89629551],\n",
    "       [  6.73176374],\n",
    "       [  5.0426266 ],\n",
    "       [  3.89182487],\n",
    "       [  0.1219508 ],\n",
    "       [ -2.23867545],\n",
    "       [ -2.49556932],\n",
    "       [ -2.14659552],\n",
    "       [ -4.79672839]])"
   ]
  },
  {
   "cell_type": "code",
   "execution_count": null,
   "metadata": {},
   "outputs": [],
   "source": []
  }
 ],
 "metadata": {
  "kernelspec": {
   "display_name": "Python 3",
   "language": "python",
   "name": "python3"
  },
  "language_info": {
   "codemirror_mode": {
    "name": "ipython",
    "version": 3
   },
   "file_extension": ".py",
   "mimetype": "text/x-python",
   "name": "python",
   "nbconvert_exporter": "python",
   "pygments_lexer": "ipython3",
   "version": "3.8.5"
  }
 },
 "nbformat": 4,
 "nbformat_minor": 4
}
