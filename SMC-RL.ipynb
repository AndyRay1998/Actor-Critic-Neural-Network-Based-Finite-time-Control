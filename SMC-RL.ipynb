{
 "cells": [
  {
   "cell_type": "code",
   "execution_count": 105,
   "metadata": {},
   "outputs": [],
   "source": [
    "import numpy as np\n",
    "import matplotlib.pyplot as plt\n",
    "import random\n",
    "%matplotlib inline"
   ]
  },
  {
   "cell_type": "code",
   "execution_count": 106,
   "metadata": {},
   "outputs": [],
   "source": [
    "# hidden layer number\n",
    "degree = 25\n",
    "# variance\n",
    "sigma = 1.\n",
    "# randomized center between [-10,10]\n",
    "#np.random.seed(13)\n",
    "#centers = np.random.random(size=(degree, 2)) * 10 - 5\n",
    "center_l = []\n",
    "for i in range(0, 20, 4):\n",
    "    for j in range(0, 20, 4):\n",
    "        center_l.append([i-10, j-10])\n",
    "centers = np.array(center_l)"
   ]
  },
  {
   "cell_type": "code",
   "execution_count": 107,
   "metadata": {},
   "outputs": [
    {
     "data": {
      "text/plain": [
       "<matplotlib.collections.PathCollection at 0x2704b7af7f0>"
      ]
     },
     "execution_count": 107,
     "metadata": {},
     "output_type": "execute_result"
    },
    {
     "data": {
      "image/png": "[encoded data removed]",
      "text/plain": [
       "<Figure size 432x288 with 1 Axes>"
      ]
     },
     "metadata": {
      "needs_background": "light"
     },
     "output_type": "display_data"
    }
   ],
   "source": [
    "plt.scatter(centers[:,0], centers[:,1])"
   ]
  },
  {
   "cell_type": "code",
   "execution_count": 108,
   "metadata": {},
   "outputs": [],
   "source": [
    "def kernel_func(center, data_point):\n",
    "    # gaussian kernel function\n",
    "    result = np.exp( -sigma * np.linalg.norm(center-data_point, axis=1) **2 )\n",
    "    return result / np.sum(result)"
   ]
  },
  {
   "cell_type": "markdown",
   "metadata": {},
   "source": [
    "# manipulator"
   ]
  },
  {
   "cell_type": "code",
   "execution_count": 109,
   "metadata": {},
   "outputs": [],
   "source": [
    "def cal_H(theta2):\n",
    "    c2 = np.cos(theta2)\n",
    "    H = np.array([[1/3*m1*l1*l1+m2*l1*l1+1/3*m2*l2*l2+m2*l1*l2*c2, 1/3*m2*l2*l2+0.5*m2*l1*l2*c2],\n",
    "                 [1/3*m2*l2*l2+1/2*m2*l1*l2*c2, 1/3*m2*l2*l2]])\n",
    "    return H"
   ]
  },
  {
   "cell_type": "code",
   "execution_count": 110,
   "metadata": {},
   "outputs": [],
   "source": [
    "def cal_C(q1_dot, q2_dot, theta2):\n",
    "    c2 = np.cos(theta2)\n",
    "    s2 = np.sin(theta2)\n",
    "    h = -0.5*m2*l1*l2*s2\n",
    "    C = np.array([[h*q2_dot, h*(q1_dot+q2_dot)],\n",
    "                 [-h*q1_dot, 0]])\n",
    "    return C"
   ]
  },
  {
   "cell_type": "code",
   "execution_count": 111,
   "metadata": {},
   "outputs": [],
   "source": [
    "def cal_G(theta1, theta2):\n",
    "    c1 = np.cos(theta1)\n",
    "    c2 = np.cos(theta2)\n",
    "    c12 = np.cos(theta1+theta2)\n",
    "    g = 9.8\n",
    "    G = np.array([[0.5*m1*g*l1*c1+m2*g*l1*c1+0.5*m2*g*l2*c12],\n",
    "                 [0.5*m2*g*l2*c12]])\n",
    "    return G"
   ]
  },
  {
   "cell_type": "markdown",
   "metadata": {},
   "source": [
    "# initialization"
   ]
  },
  {
   "cell_type": "code",
   "execution_count": 112,
   "metadata": {},
   "outputs": [],
   "source": [
    "q1_dot_list = []\n",
    "q2_dot_list = []\n",
    "q1_list = []\n",
    "q2_list = []\n",
    "torque1_list = []\n",
    "torque2_list = []\n",
    "s1 = []\n",
    "s2 = []\n",
    "time_list = []\n",
    "error_list = []\n",
    "s1_rl_list = []\n",
    "s2_rl_list = []\n",
    "critic_l = []\n",
    "\n",
    "# param\n",
    "m1 = 1\n",
    "m2 = 2\n",
    "l1 = 2\n",
    "l2 = 2\n",
    "g = 9.8\n",
    "\n",
    "\n",
    "# state\n",
    "q = np.array([[0.01], [0.01]], dtype=np.float32)\n",
    "q_dot = np.array([[0], [0]], dtype=np.float32)\n",
    "q_dot_dot = np.array([[0], [0]], dtype=np.float32)\n",
    "\n",
    "# target\n",
    "q_d = np.array([[1], [2]], dtype=np.float32)\n",
    "q_d_d = np.array([[0], [0]], dtype=np.float32)\n",
    "q_d_dd= np.array([[0], [0]], dtype=np.float32)\n",
    "\n",
    "\n",
    "\n",
    "# perturbance estimation\n",
    "F_est = 0\n",
    "F_est_dot = 0\n",
    "gama = 10\n",
    "F_ = 1\n",
    "\n",
    "c1 = 2\n",
    "g = 1.8\n",
    "p = 0.8\n",
    "\n",
    "# time interval\n",
    "del_t = 0.001\n",
    "\n",
    "\n",
    "############ RL param ##############\n",
    "Wck = np.ones((degree, 1)) * 0.1\n",
    "Wak = np.ones((degree, 1)) * 0.1\n",
    "Gk = np.zeros((degree, 1))\n",
    "rk = 0\n",
    "\n",
    "Pk = np.random.random((degree, 1))\n",
    "Pk = np.ones((degree, 1)) * 0\n",
    "mu = 0.5\n",
    "beta = 0.5\n",
    "ka = 0.001\n",
    "#lr_c = 0.08\n",
    "#lr_a = 0.4\n",
    "lr_c = 0.08\n",
    "lr_a = 0.3\n",
    "\n",
    "epsilon = 0.1\n",
    "yak = 0\n",
    "psi_c_prev = np.zeros((degree, 1))\n",
    "psi_a_prev = np.zeros((degree, 1))\n",
    "psi_c = np.zeros((degree, 1))\n",
    "psi_a = np.zeros((degree, 1))\n",
    "\n",
    "###### 2nd dof #######\n",
    "Wck_ = np.ones((degree, 1)) * 0.1\n",
    "Wak_ = np.ones((degree, 1)) * 0.1\n",
    "Gk_ = np.zeros((degree, 1))\n",
    "rk_ = 0\n",
    "\n",
    "Pk_ = np.random.random((degree, 1))\n",
    "Pk_ = np.ones((degree, 1)) * 0\n",
    "\n",
    "epsilon_ = 0.1\n",
    "yak_ = 0\n",
    "psi_c_prev_ = np.zeros((degree, 1))\n",
    "psi_a_prev_ = np.zeros((degree, 1))\n",
    "psi_c_ = np.zeros((degree, 1))\n",
    "psi_a_ = np.zeros((degree, 1))\n",
    "\n",
    "# record last step\n",
    "psi_c_l = [psi_c, psi_c]\n",
    "psi_a_l = [psi_a, psi_c]\n",
    "rk_l = [rk, rk]\n",
    "Wck_l = [Wck, Wck]\n",
    "Wak_l = [Wak, Wak]\n",
    "\n",
    "psi_c_l_ = [psi_c_, psi_c_]\n",
    "psi_a_l_ = [psi_a_, psi_c_]  \n",
    "rk_l_ = [rk_, rk_]\n",
    "Wck_l_ = [Wck_, Wck_]\n",
    "Wak_l_ = [Wak_, Wak_]"
   ]
  },
  {
   "cell_type": "code",
   "execution_count": 113,
   "metadata": {},
   "outputs": [],
   "source": [
    "for i in range(15000):\n",
    "    \n",
    "    time_list.append(i * del_t)\n",
    "    \n",
    "    \n",
    "    # 正弦目标\n",
    "    q_d = np.ones((2,1))\n",
    "    q_d[0][0] *= np.sin(2*i*del_t)\n",
    "    q_d[1][0] *= np.sin(3*i*del_t)\n",
    "    q_d_d = np.ones((2,1))\n",
    "    q_d_d[0][0] *= 2 * np.cos(2*i*del_t)\n",
    "    q_d_d[1][0] *= 3 * np.cos(3*i*del_t)\n",
    "    q_d_dd = - np.ones((2,1))\n",
    "    q_d_dd[0][0] *= 4 * np.sin(2*i*del_t)\n",
    "    q_d_dd[1][0] *= 9 * np.sin(3*i*del_t)\n",
    "    \n",
    "    \n",
    "    \n",
    "    \n",
    "    z1_dot = q_dot - q_d_d\n",
    "    z1 = q - q_d\n",
    "    z2 = q_dot + c1 * z1 - q_d_d\n",
    "\n",
    "    delt_u = 1\n",
    "    ###########   1DOF   #################\n",
    "    '''RL'''\n",
    "    \n",
    "    # update\n",
    "    # s = z1_dot + 10 * z1\n",
    "    # s = z2 + np.sign(z1) * abs(z1) ** g\n",
    "    s = (z1_dot + 6 * z1) / 2\n",
    "    \n",
    "    # RBF network result\n",
    "    psi_c = kernel_func(centers, s.T).reshape((-1,1))\n",
    "    psi_a = kernel_func(centers, s.T).reshape((-1,1))\n",
    "    \n",
    "    # rk and TD error update\n",
    "    if(abs(s[0][0])<0.5):\n",
    "        rk = -(1 / (1+np.exp(-(s[0][0]))) - 0.5) * 1000\n",
    "    else:\n",
    "        rk = -(1 / (1+np.exp(-(s[0][0]))) - 0.5) * 50\n",
    "    \n",
    "    # rk = -s[0][0] * 5\n",
    "    tde = rk + beta * Wck.T.dot(psi_c) - Wck.T.dot(psi_c_l[-1])\n",
    "\n",
    "    Q_prev = Wck.T.dot(psi_c_l[-1])\n",
    "    \n",
    "    #Wck = Wck - lr_c*psi_c_l[-1].dot( (Q_prev+beta**(i+1)*rk_l[-1]-0.5* Wck_l[-2].T.dot(psi_c_l[-2]).T ) )\n",
    "    \n",
    "    #Gk = Pk.dot(np.linalg.inv(mu + (psi_c_l[-1].T - beta*psi_c.T).dot(Pk)))\n",
    "    #Pk = (Pk - Gk.dot(psi_c_l[-1].T - beta*psi_c.T).dot(Pk)) / mu\n",
    "    #Wck = Wck + Gk.dot(rk_l[-1] + (psi_c_l[-1].T - beta*psi_c.T).dot(Wck))\n",
    "    \n",
    "    Wck = Wck + lr_c*tde*psi_c_l[-1]\n",
    "    \n",
    "    #Wck = Wck - lr_c * tde * (psi_c_l[-1] - beta*psi_c)\n",
    "    \n",
    "    Wak = Wak + lr_a*tde*psi_a_l[-1]\n",
    "    \n",
    "    \n",
    "    yak = psi_a_l[-1].T.dot(Wak_l[-1])\n",
    "    \n",
    "    # print(yak)\n",
    "    # print(rk_l[-1] + (psi_c_l[-1].T - gama_*psi_c.T).dot(Wck))\n",
    "    # print(rk)\n",
    "    critic_l.append(float(Q_prev))\n",
    "    \n",
    "    # record last step\n",
    "    psi_c_l.append(psi_c)\n",
    "    psi_a_l.append(psi_a)\n",
    "    rk_l.append(rk)\n",
    "    Wck_l.append(Wck)\n",
    "    Wak_l.append(Wak)\n",
    "    del(psi_c_l[0])\n",
    "    del(psi_a_l[0])\n",
    "    del(rk_l[0])\n",
    "    del(Wck_l[0])\n",
    "    del(Wak_l[0])\n",
    "    \n",
    "    #############   2DOF   ##############################\n",
    "    #s = z2 + np.sign(z1) * abs(z1) ** g\n",
    "    # s = z1_dot + 10 * z1\n",
    "\n",
    "    psi_c_ = kernel_func(centers, s.T).reshape((-1,1))\n",
    "    psi_a_ = kernel_func(centers, s.T).reshape((-1,1))\n",
    "    \n",
    "    if(abs(s[1][0])<0.5):\n",
    "        rk_ = -(1 / (1+np.exp(-(s[1][0]))) - 0.5) * 1000\n",
    "    else:\n",
    "        rk_ = -(1 / (1+np.exp(-(s[1][0]))) - 0.5) * 50\n",
    "    # rk_ = -s[1][0] * 5\n",
    "    tde_ = rk_ + beta * Wck_.T.dot(psi_c_) - Wck_.T.dot(psi_c_l_[-1])\n",
    "\n",
    "    Q_prev_ = Wck_.T.dot(psi_c_l_[-1])\n",
    "    \n",
    "    #Wck_ = Wck_ - lr_c*psi_c_l_[-1].dot( (Q_prev_+beta**(i+1)*rk_l_[-1]-0.5* Wck_l_[-2].T.dot(psi_c_l_[-2]).T ) )\n",
    "    \n",
    "    #Gk_ = Pk_.dot(np.linalg.inv(mu + (psi_c_l_[-1].T - beta*psi_c_.T).dot(Pk_)))\n",
    "    #Pk_ = (Pk_ - Gk_.dot(psi_c_l_[-1].T - beta*psi_c_.T).dot(Pk_)) / mu\n",
    "    #Wck_ = Wck_ + Gk_.dot(rk_l_[-1] + (psi_c_l_[-1].T - beta*psi_c_.T).dot(Wck_))\n",
    "    \n",
    "    Wck_ = Wck_ + lr_c*tde_*psi_c_l_[-1]\n",
    "    \n",
    "    # Wck_ = Wck_ - lr_c * tde_ * (psi_c_l[-1] - beta*psi_c)\n",
    "    \n",
    "    Wak_ = Wak_ + lr_a * tde_ *psi_a_l_[-1]\n",
    "    \n",
    "    yak_ = psi_a_l_[-1].T.dot(Wak_l_[-1])\n",
    "    \n",
    "    \n",
    "    \n",
    "    #print(yak)\n",
    "    #print(rk)\n",
    "    #print(Q_prev_)\n",
    "    #print(rk)\n",
    "    \n",
    "    \n",
    "    # record last step\n",
    "    psi_c_l_.append(psi_c_)\n",
    "    psi_a_l_.append(psi_a_)\n",
    "    rk_l_.append(rk_)\n",
    "    Wck_l_.append(Wck_)\n",
    "    Wak_l_.append(Wak_)\n",
    "    del(psi_c_l_[0])\n",
    "    del(psi_a_l_[0])\n",
    "    del(rk_l_[0])\n",
    "    del(Wck_l_[0])\n",
    "    del(Wak_l_[0])\n",
    "\n",
    "    \n",
    "    ############### finite time control ############################\n",
    "    s = z2 + np.sign(z1) * abs(z1) ** g\n",
    "    # control law\n",
    "    torque = cal_C(q_dot[0][0], q_dot[1][0], q[1][0]).dot(q_dot) + cal_G(q[0][0], q[1][0]) + cal_H(q[1][0]).dot(- c1*z1_dot + q_d_dd - g*abs(z1)**(g-1)*(z2-c1*z1) -0.5*np.sign(s)*abs(s)**p)\n",
    "    \n",
    "    torque[0][0] += yak\n",
    "    torque[1][0] += yak_\n",
    "    \n",
    "    torque_a = torque - cal_G(q[0][0], q[1][0]) - cal_C(q_dot[0][0], q_dot[1][0], q[1][0]).dot(q_dot)\n",
    "    \n",
    "    #torque_a[0][0] = yak\n",
    "    #torque_a[1][0] = yak_\n",
    "    \n",
    "    # 随机扰动\n",
    "    # error = random.random()\n",
    "    # 正弦扰动\n",
    "    error = 0.1*np.sin(10 *i*del_t)\n",
    "    \n",
    "    q_dot_dot = np.linalg.inv(cal_H(q[1][0])).dot(torque_a) + error\n",
    "    q_dot = q_dot + q_dot_dot * del_t\n",
    "    q = q + q_dot * del_t + 0.5 * q_dot_dot * del_t**2\n",
    "    '''\n",
    "    while(q[0][0] > np.pi):\n",
    "        q[0][0] -= np.pi*2\n",
    "    while(q[0][0] < -np.pi):\n",
    "        q[0][0] += np.pi*2\n",
    "    while(q[1][0] > np.pi):\n",
    "        q[1][0] -= np.pi*2\n",
    "    while(q[1][0] < -np.pi):\n",
    "        q[1][0] += np.pi*2\n",
    "        '''\n",
    "    \n",
    "    # record for visualization\n",
    "    s1.append(s[0][0])\n",
    "    s2.append(s[1][0])\n",
    "    \n",
    "    q1_dot_list.append(q_dot[0][0] - q_d_d[0][0])\n",
    "    q2_dot_list.append(q_dot[1][0] - q_d_d[1][0])\n",
    "    q1_list.append(q[0][0] - q_d[0][0])\n",
    "    q2_list.append(q[1][0] - q_d[1][0])\n",
    "    #torque1_list.append(torque[0][0])\n",
    "    #torque2_list.append(torque[1][0])\n",
    "    torque1_list.append(torque[0][0])\n",
    "    torque2_list.append(torque[1][0])\n",
    "    error_list.append(error)"
   ]
  },
  {
   "cell_type": "code",
   "execution_count": 114,
   "metadata": {
    "scrolled": true
   },
   "outputs": [
    {
     "data": {
      "text/plain": [
       "<matplotlib.legend.Legend at 0x2704a364ac0>"
      ]
     },
     "execution_count": 114,
     "metadata": {},
     "output_type": "execute_result"
    },
    {
     "data": {
      "image/png": "[encoded data removed]",
      "text/plain": [
       "<Figure size 432x288 with 1 Axes>"
      ]
     },
     "metadata": {
      "needs_background": "light"
     },
     "output_type": "display_data"
    }
   ],
   "source": [
    "plt.suptitle('Sliding mode variable')\n",
    "plt.plot(time_list, s1, label=\"s1\")\n",
    "plt.plot(time_list, s2, label=\"s2\")\n",
    "plt.xlabel('time/s')\n",
    "plt.legend()"
   ]
  },
  {
   "cell_type": "code",
   "execution_count": 115,
   "metadata": {
    "scrolled": true
   },
   "outputs": [
    {
     "data": {
      "text/plain": [
       "<matplotlib.legend.Legend at 0x2704b87f6d0>"
      ]
     },
     "execution_count": 115,
     "metadata": {},
     "output_type": "execute_result"
    },
    {
     "data": {
      "image/png": "[encoded data removed]",
      "text/plain": [
       "<Figure size 432x288 with 1 Axes>"
      ]
     },
     "metadata": {
      "needs_background": "light"
     },
     "output_type": "display_data"
    }
   ],
   "source": [
    "plt.suptitle('Sliding mode variable')\n",
    "plt.plot(time_list[6000:8000], s1[6000:8000], label=\"s1\")\n",
    "plt.plot(time_list[6000:8000], s2[6000:8000], label=\"s2\")\n",
    "plt.xlabel('time/s')\n",
    "plt.legend()"
   ]
  },
  {
   "cell_type": "code",
   "execution_count": 116,
   "metadata": {},
   "outputs": [
    {
     "data": {
      "text/plain": [
       "<matplotlib.legend.Legend at 0x2704b8bf8e0>"
      ]
     },
     "execution_count": 116,
     "metadata": {},
     "output_type": "execute_result"
    },
    {
     "data": {
      "image/png": "[encoded data removed]",
      "text/plain": [
       "<Figure size 432x288 with 1 Axes>"
      ]
     },
     "metadata": {
      "needs_background": "light"
     },
     "output_type": "display_data"
    }
   ],
   "source": [
    "plt.suptitle('Torque')\n",
    "plt.plot(time_list, torque1_list, label=\"torque1\")\n",
    "plt.plot(time_list, torque2_list, label=\"torque2\")\n",
    "plt.xlabel('time/s')\n",
    "plt.ylabel('N * m')\n",
    "plt.legend()"
   ]
  },
  {
   "cell_type": "code",
   "execution_count": 117,
   "metadata": {},
   "outputs": [
    {
     "data": {
      "text/plain": [
       "<matplotlib.legend.Legend at 0x2704b8d8bb0>"
      ]
     },
     "execution_count": 117,
     "metadata": {},
     "output_type": "execute_result"
    },
    {
     "data": {
      "image/png": "[encoded data removed]",
      "text/plain": [
       "<Figure size 432x288 with 1 Axes>"
      ]
     },
     "metadata": {
      "needs_background": "light"
     },
     "output_type": "display_data"
    }
   ],
   "source": [
    "plt.suptitle('Angle error')\n",
    "plt.plot(time_list, q1_list, label=\"q1\")\n",
    "plt.plot(time_list, q2_list, label=\"q2\")\n",
    "plt.xlabel('time/s')\n",
    "plt.ylabel('rad')\n",
    "plt.legend()"
   ]
  },
  {
   "cell_type": "code",
   "execution_count": 118,
   "metadata": {},
   "outputs": [
    {
     "data": {
      "text/plain": [
       "<matplotlib.legend.Legend at 0x2704b8645e0>"
      ]
     },
     "execution_count": 118,
     "metadata": {},
     "output_type": "execute_result"
    },
    {
     "data": {
      "image/png": "[encoded data removed]",
      "text/plain": [
       "<Figure size 432x288 with 1 Axes>"
      ]
     },
     "metadata": {
      "needs_background": "light"
     },
     "output_type": "display_data"
    }
   ],
   "source": [
    "plt.suptitle('Velocity Error')\n",
    "plt.plot(time_list, q1_dot_list, label=\"v1\")\n",
    "plt.plot(time_list, q2_dot_list, label=\"v2\")\n",
    "plt.xlabel('time/s')\n",
    "plt.ylabel('rad / s')\n",
    "plt.legend()"
   ]
  },
  {
   "cell_type": "code",
   "execution_count": null,
   "metadata": {},
   "outputs": [],
   "source": []
  }
 ],
 "metadata": {
  "kernelspec": {
   "display_name": "Python 3 (ipykernel)",
   "language": "python",
   "name": "python3"
  },
  "language_info": {
   "codemirror_mode": {
    "name": "ipython",
    "version": 3
   },
   "file_extension": ".py",
   "mimetype": "text/x-python",
   "name": "python",
   "nbconvert_exporter": "python",
   "pygments_lexer": "ipython3",
   "version": "3.8.5"
  }
 },
 "nbformat": 4,
 "nbformat_minor": 4
}
