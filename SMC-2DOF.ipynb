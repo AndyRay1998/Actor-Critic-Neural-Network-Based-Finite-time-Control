{
 "cells": [
  {
   "cell_type": "code",
   "execution_count": 23,
   "metadata": {},
   "outputs": [],
   "source": [
    "import numpy as np\n",
    "import matplotlib.pyplot as plt\n",
    "import random\n",
    "%matplotlib inline\n",
    "from IPython.display import Javascript"
   ]
  },
  {
   "cell_type": "markdown",
   "metadata": {},
   "source": [
    "# paper"
   ]
  },
  {
   "cell_type": "code",
   "execution_count": 24,
   "metadata": {},
   "outputs": [],
   "source": [
    "def cal_H(theta2):\n",
    "\n",
    "    c2 = np.cos(theta2)\n",
    "    \n",
    "    H = np.array([[1/3*m1*l1*l1+m2*l1*l1+1/3*m2*l2*l2+m2*l1*l2*c2, 1/3*m2*l2*l2+0.5*m2*l1*l2*c2],\n",
    "                 [1/3*m2*l2*l2+1/2*m2*l1*l2*c2, 1/3*m2*l2*l2]])\n",
    "    \n",
    "    return H"
   ]
  },
  {
   "cell_type": "code",
   "execution_count": 25,
   "metadata": {},
   "outputs": [],
   "source": [
    "def cal_C(q1_dot, q2_dot, theta2):\n",
    "\n",
    "    c2 = np.cos(theta2)\n",
    "    s2 = np.sin(theta2)\n",
    "    \n",
    "    h = -0.5*m2*l1*l2*s2\n",
    "    C = np.array([[h*q2_dot, h*(q1_dot+q2_dot)],\n",
    "                 [-h*q1_dot, 0]])\n",
    "    \n",
    "    return C"
   ]
  },
  {
   "cell_type": "code",
   "execution_count": 26,
   "metadata": {},
   "outputs": [],
   "source": [
    "def cal_G(theta1, theta2):\n",
    "\n",
    "    c1 = np.cos(theta1)\n",
    "    c2 = np.cos(theta2)\n",
    "    c12 = np.cos(theta1+theta2)\n",
    "    g = 9.8\n",
    "    \n",
    "    G = np.array([[0.5*m1*g*l1*c1+m2*g*l1*c1+0.5*m2*g*l2*c12],\n",
    "                 [0.5*m2*g*l2*c12]])\n",
    "    \n",
    "    return G"
   ]
  },
  {
   "cell_type": "markdown",
   "metadata": {},
   "source": [
    "# SMC"
   ]
  },
  {
   "cell_type": "code",
   "execution_count": 27,
   "metadata": {},
   "outputs": [],
   "source": [
    "q1_dot_list = []\n",
    "q2_dot_list = []\n",
    "q1_list = []\n",
    "q2_list = []\n",
    "torque1_list = []\n",
    "torque2_list = []\n",
    "s1 = []\n",
    "s2 = []\n",
    "time_list = []\n",
    "\n",
    "m1 = 1\n",
    "m2 = 2\n",
    "l1 = 2\n",
    "l2 = 2\n",
    "g = 9.8\n",
    "    \n",
    "q = np.array([[0.2], [0.1]], dtype=np.float32)\n",
    "\n",
    "q_dot = np.array([[0], [0]], dtype=np.float32)\n",
    "\n",
    "q_dot_dot = np.array([[0], [0]], dtype=np.float32)\n",
    "\n",
    "up = 2 * np.eye(2)\n",
    "\n",
    "q_d = np.array([[0.5], [0.3]], dtype=np.float32)\n",
    "\n",
    "q_d_d = np.array([[0], [0]], dtype=np.float32)\n",
    "\n",
    "q_d_dd= np.array([[0], [0]], dtype=np.float32)\n",
    "\n",
    "k = np.array([[9], [3]])\n",
    "del_t = 0.001\n",
    "        \n",
    "\n",
    "for i in range(40000):       \n",
    "    time_list.append(i)\n",
    "    \n",
    "    # 正弦目标\n",
    "    q_d = 2 * np.ones((2,1)) * np.sin(5*i*del_t)\n",
    "    q_d_d = 2 * np.ones((2,1)) * 5 * np.cos(5*i*del_t)\n",
    "    q_d_dd = - 2 * np.ones((2,1)) * 25 * np.sin(5*i*del_t)\n",
    "    \n",
    "    for j in range(1):\n",
    "        q_r_dd = q_d_dd - up.dot(q_dot-q_d_d)\n",
    "        q_r_d = q_d_d - up.dot(q-q_d)\n",
    "\n",
    "        # torque = cal_H(q_d[1][0]).dot(q_r_dd) + cal_C(q_d_d[0][0], q_d_d[1][0], q[1][0]).dot(q_r_d) + cal_G(q_d[0][0], q_d[1][0])\n",
    "        torque = cal_H(q[1][0]).dot(q_r_dd) + cal_C(q_dot[0][0], q_dot[1][0], q[1][0]).dot(q_r_d) + cal_G(q[0][0], q[1][0])\n",
    "        \n",
    "        s = (q_dot - q_r_d)\n",
    "        \n",
    "        # s = s / (abs(s)) * np.clip(abs(s) * 100, 0, 1)\n",
    "        s = s / (abs(s))\n",
    "        #s = (q_dot - q_r_d) > 0\n",
    "        \n",
    "\n",
    "        torque_a = torque - cal_G(q[0][0], q[1][0]) - cal_C(q_dot[0][0], q_dot[1][0], q[1][0]).dot(q_dot) - np.multiply(k, s)\n",
    "        #torque2_list.append(torque_a[1][0])\n",
    "        \n",
    "\n",
    "        q_dot_dot = np.linalg.inv(cal_H(q[1][0])).dot(torque_a)\n",
    "\n",
    "        q_dot = q_dot + q_dot_dot * del_t\n",
    "\n",
    "        q = q + q_dot * del_t + 0.5 * q_dot_dot * del_t**2\n",
    "\n",
    "        \n",
    "    s = (q_dot - q_r_d)\n",
    "    s1.append(s[0][0])\n",
    "    s2.append(s[1][0])\n",
    "    q1_dot_list.append(q_dot[0][0] - q_d_d[0][0])\n",
    "    q2_dot_list.append(q_dot[1][0] - q_d_d[1][0])\n",
    "    q1_list.append(q[0][0] - q_d[0][0])\n",
    "    q2_list.append(q[1][0] - q_d[1][0])\n",
    "    torque1_list.append(torque[0][0])\n",
    "    torque2_list.append(torque[1][0])"
   ]
  },
  {
   "cell_type": "markdown",
   "metadata": {},
   "source": [
    "# back-stepping & SMC"
   ]
  },
  {
   "cell_type": "code",
   "execution_count": 28,
   "metadata": {},
   "outputs": [],
   "source": [
    "q1_dot_list = []\n",
    "q2_dot_list = []\n",
    "q1_list = []\n",
    "q2_list = []\n",
    "torque1_list = []\n",
    "torque2_list = []\n",
    "s1 = []\n",
    "s2 = []\n",
    "time_list = []\n",
    "error_list = []\n",
    "\n",
    "# param\n",
    "m1 = 1\n",
    "m2 = 2\n",
    "l1 = 2\n",
    "l2 = 2\n",
    "g = 9.8\n",
    "\n",
    "c1 = 2\n",
    "c2 = 2\n",
    "up = 1 * np.eye(2)\n",
    "\n",
    "# state\n",
    "q = np.array([[0.2], [0.1]], dtype=np.float32)\n",
    "q_dot = np.array([[0], [0]], dtype=np.float32)\n",
    "q_dot_dot = np.array([[0], [0]], dtype=np.float32)\n",
    "\n",
    "# target\n",
    "'''\n",
    "q_d = np.array([[0.5], [0.3]], dtype=np.float32)\n",
    "q_d_d = np.array([[0], [0]], dtype=np.float32)\n",
    "q_d_dd= np.array([[0], [0]], dtype=np.float32)\n",
    "'''\n",
    "k = np.array([[1], [1]])\n",
    "eita = 1\n",
    "# time interval\n",
    "del_t = 0.001\n",
    "\n",
    "for i in range(8000):\n",
    "    time_list.append(i * del_t)\n",
    "    \n",
    "    # 正弦目标\n",
    "    q_d = 2 * np.ones((2,1)) * np.sin(5*i*del_t)\n",
    "    q_d_d = 2 * np.ones((2,1)) * 5 * np.cos(5*i*del_t)\n",
    "    q_d_dd = - 2 * np.ones((2,1)) * 25 * np.sin(5*i*del_t)\n",
    "    \n",
    "    z1_dot = q_dot - q_d_d\n",
    "    z1 = q - q_d\n",
    "    z2 = q_dot + c1 * z1 - q_d_d\n",
    "    \n",
    "    s = z2\n",
    "    # s = s / (abs(s)) * np.clip(abs(s) * 200, 0, 1)\n",
    "    s = s / (abs(s) + 0.00)\n",
    "    \n",
    "    torque = cal_C(q_dot[0][0], q_dot[1][0], q[1][0]).dot(q_dot) + cal_G(q[0][0], q[1][0]) - cal_H(q[1][0]).dot(c1 * z1_dot - q_d_dd + z1 + c2 * z2 + eita * s)\n",
    "        \n",
    "    torque_a = torque - cal_G(q[0][0], q[1][0]) - cal_C(q_dot[0][0], q_dot[1][0], q[1][0]).dot(q_dot)\n",
    "    \n",
    "    # 随机扰动\n",
    "    error = random.random() * eita - eita / 2\n",
    "    # 正弦扰动\n",
    "    # error = eita * np.sin(10 *i*del_t)\n",
    "    \n",
    "    q_dot_dot = np.linalg.inv(cal_H(q[1][0])).dot(torque_a) + error\n",
    "    q_dot = q_dot + q_dot_dot * del_t\n",
    "    q = q + q_dot * del_t + 0.5 * q_dot_dot * del_t**2\n",
    "    \n",
    "    s = z2\n",
    "    s1.append(s[0][0])\n",
    "    s2.append(s[1][0])\n",
    "    q1_dot_list.append(q_dot[0][0] - q_d_d[0][0])\n",
    "    q2_dot_list.append(q_dot[1][0] - q_d_d[1][0])\n",
    "    q1_list.append(q[0][0] - q_d[0][0])\n",
    "    q2_list.append(q[1][0] - q_d[1][0])\n",
    "    torque1_list.append(torque[0][0])\n",
    "    torque2_list.append(torque[1][0])\n",
    "    error_list.append(error)"
   ]
  },
  {
   "cell_type": "markdown",
   "metadata": {},
   "source": [
    "# back-stepping & robust"
   ]
  },
  {
   "cell_type": "code",
   "execution_count": 29,
   "metadata": {},
   "outputs": [],
   "source": [
    "q1_dot_list = []\n",
    "q2_dot_list = []\n",
    "q1_list = []\n",
    "q2_list = []\n",
    "torque1_list = []\n",
    "torque2_list = []\n",
    "s1 = []\n",
    "s2 = []\n",
    "time_list = []\n",
    "error_list = []\n",
    "\n",
    "# param\n",
    "m1 = 1\n",
    "m2 = 2\n",
    "l1 = 2\n",
    "l2 = 2\n",
    "g = 9.8\n",
    "\n",
    "\n",
    "# state\n",
    "q = np.array([[0.2], [0.1]], dtype=np.float32)\n",
    "q_dot = np.array([[0], [0]], dtype=np.float32)\n",
    "q_dot_dot = np.array([[0], [0]], dtype=np.float32)\n",
    "\n",
    "# target\n",
    "q_d = np.array([[5], [3]], dtype=np.float32)\n",
    "q_d_d = np.array([[0], [0]], dtype=np.float32)\n",
    "q_d_dd= np.array([[0], [0]], dtype=np.float32)\n",
    "\n",
    "beta = np.array([[20], [10]])\n",
    "h = 2\n",
    "c1 = 2\n",
    "k1 = 2\n",
    "F_ = 10\n",
    "\n",
    "# time interval\n",
    "del_t = 0.001\n",
    "\n",
    "for i in range(4000):\n",
    "    time_list.append(i * del_t)\n",
    "    \n",
    "    # 正弦目标\n",
    "    q_d = np.ones((2,1)) * np.sin(5*i*del_t)\n",
    "    q_d_d = np.ones((2,1)) * 5 * np.cos(5*i*del_t)\n",
    "    q_d_dd = - np.ones((2,1)) * 25 * np.sin(5*i*del_t)\n",
    "    \n",
    "    '''\n",
    "    # target state \n",
    "    t = i / 1000\n",
    "    a = 6/5\n",
    "    if( i <= 1000):\n",
    "        q_d_dd = np.array([[0], [a]], dtype=np.float32)\n",
    "        q_d_d = np.array([[0], [a*t]], dtype=np.float32)\n",
    "        q_d = np.array([[0.3], [t**2/2*a]], dtype=np.float32)\n",
    "    elif( i > 3000):\n",
    "        q_d_dd = np.array([[0], [-a]], dtype=np.float32)\n",
    "        q_d_d = np.array([[0], [4*a-a*t]], dtype=np.float32)\n",
    "        q_d = np.array([[0.3], [18/5-a/2*(4-t)**2]], dtype=np.float32)\n",
    "    elif( i > 4000):\n",
    "        q_d_dd = np.array([[0], [0]], dtype=np.float32)\n",
    "        q_d_d = np.array([[0], [0]], dtype=np.float32)\n",
    "        q_d = np.array([[0.3], [18/5]], dtype=np.float32)\n",
    "    else:\n",
    "        q_d_dd = np.array([[0], [0]], dtype=np.float32)\n",
    "        q_d_d = np.array([[0], [a]], dtype=np.float32)\n",
    "        q_d = np.array([[0.3], [a/2 + (t-1)*a]], dtype=np.float32)\n",
    "    '''\n",
    "        \n",
    "    z1_dot = q_dot - q_d_d\n",
    "    z1 = q - q_d\n",
    "    z2 = q_dot + c1 * z1 - q_d_d\n",
    "    \n",
    "    s = k1 * z1 + z2\n",
    "    s = s / (abs(s) + 0.001)\n",
    "    \n",
    "    torque = cal_C(q_dot[0][0], q_dot[1][0], q[1][0]).dot(q_dot) + cal_G(q[0][0], q[1][0]) + cal_H(q[1][0]).dot(-k1*q_dot + k1*q_d_d - F_*s - c1*q_dot + c1*q_d_d + q_d_dd - h*s - h*beta*s)\n",
    "  \n",
    "    \n",
    "    torque_a = torque - cal_G(q[0][0], q[1][0]) - cal_C(q_dot[0][0], q_dot[1][0], q[1][0]).dot(q_dot)\n",
    "    \n",
    "    # 随机扰动\n",
    "    # error = random.random() * F_\n",
    "    # 正弦扰动\n",
    "    error = F_ * np.sin(10 *i*del_t)\n",
    "    \n",
    "    \n",
    "    q_dot_dot = np.linalg.inv(cal_H(q[1][0])).dot(torque_a) + error\n",
    "    q_dot = q_dot + q_dot_dot * del_t\n",
    "    q = q + q_dot * del_t + 0.5 * q_dot_dot * del_t**2\n",
    "    \n",
    "    s = k1 * z1 + z2\n",
    "    s1.append(s[0][0])\n",
    "    s2.append(s[1][0])\n",
    "    q1_dot_list.append(q_dot[0][0] - q_d_d[0][0])\n",
    "    q2_dot_list.append(q_dot[1][0] - q_d_d[1][0])\n",
    "    #q1_dot_list.append(q_dot[0][0])\n",
    "    #q2_dot_list.append(q_dot[1][0])\n",
    "    q1_list.append(q[0][0] - q_d[0][0])\n",
    "    q2_list.append(q[1][0] - q_d[1][0])\n",
    "    torque1_list.append(torque[0][0])\n",
    "    torque2_list.append(torque[1][0])\n",
    "    error_list.append(error)"
   ]
  },
  {
   "cell_type": "markdown",
   "metadata": {},
   "source": [
    "# back-stepping & adaptive"
   ]
  },
  {
   "cell_type": "code",
   "execution_count": 30,
   "metadata": {},
   "outputs": [],
   "source": [
    "q1_dot_list = []\n",
    "q2_dot_list = []\n",
    "q1_list = []\n",
    "q2_list = []\n",
    "torque1_list = []\n",
    "torque2_list = []\n",
    "s1 = []\n",
    "s2 = []\n",
    "time_list = []\n",
    "error_list = []\n",
    "\n",
    "# param\n",
    "m1 = 1\n",
    "m2 = 2\n",
    "l1 = 2\n",
    "l2 = 2\n",
    "g = 9.8\n",
    "\n",
    "\n",
    "# state\n",
    "q = np.array([[0.2], [0.1]], dtype=np.float32)\n",
    "q_dot = np.array([[0], [0]], dtype=np.float32)\n",
    "q_dot_dot = np.array([[0], [0]], dtype=np.float32)\n",
    "\n",
    "# target\n",
    "q_d = np.array([[5], [3]], dtype=np.float32)\n",
    "q_d_d = np.array([[0], [0]], dtype=np.float32)\n",
    "q_d_dd= np.array([[0], [0]], dtype=np.float32)\n",
    "\n",
    "beta = np.array([[20], [10]])\n",
    "h = 2\n",
    "c1 = 2\n",
    "k1 = 2\n",
    "# perturbance estimation\n",
    "F_est = 0\n",
    "F_est_dot = 0\n",
    "gama = 10\n",
    "F_ = 10\n",
    "\n",
    "# time interval\n",
    "del_t = 0.001\n",
    "\n",
    "for i in range(4000):\n",
    "    \n",
    "    time_list.append(i * del_t)\n",
    "    \n",
    "    # 正弦目标\n",
    "    q_d = np.ones((2,1)) * np.sin(5*i*del_t)\n",
    "    q_d_d = np.ones((2,1)) * 5 * np.cos(5*i*del_t)\n",
    "    q_d_dd = - np.ones((2,1)) * 25 * np.sin(5*i*del_t)\n",
    "    \n",
    "    '''\n",
    "    # target state \n",
    "    t = i / 1000\n",
    "    a = 6/5\n",
    "    if( i <= 1000):\n",
    "        q_d_dd = np.array([[0], [a]], dtype=np.float32)\n",
    "        q_d_d = np.array([[0], [a*t]], dtype=np.float32)\n",
    "        q_d = np.array([[0.3], [t**2/2*a]], dtype=np.float32)\n",
    "    elif( i > 3000):\n",
    "        q_d_dd = np.array([[0], [-a]], dtype=np.float32)\n",
    "        q_d_d = np.array([[0], [4*a-a*t]], dtype=np.float32)\n",
    "        q_d = np.array([[0.3], [18/5-a/2*(4-t)**2]], dtype=np.float32)\n",
    "    elif( i > 4000):\n",
    "        q_d_dd = np.array([[0], [0]], dtype=np.float32)\n",
    "        q_d_d = np.array([[0], [0]], dtype=np.float32)\n",
    "        q_d = np.array([[0.3], [18/5]], dtype=np.float32)\n",
    "    else:\n",
    "        q_d_dd = np.array([[0], [0]], dtype=np.float32)\n",
    "        q_d_d = np.array([[0], [a]], dtype=np.float32)\n",
    "        q_d = np.array([[0.3], [a/2 + (t-1)*a]], dtype=np.float32)\n",
    "    '''\n",
    "    \n",
    "    z1_dot = q_dot - q_d_d\n",
    "    z1 = q - q_d\n",
    "    z2 = q_dot + c1 * z1 - q_d_d\n",
    "    \n",
    "    s = k1 * z1 + z2\n",
    "    s = s / (abs(s) + 0.01)\n",
    "    \n",
    "    # estimated perturbance\n",
    "    F_est_dot = - gama * s\n",
    "    F_est += F_est_dot * del_t\n",
    "    \n",
    "    torque = cal_C(q_dot[0][0], q_dot[1][0], q[1][0]).dot(q_dot) + cal_G(q[0][0], q[1][0]) + cal_H(q[1][0]).dot(-k1*q_dot + k1*q_d_d - F_est*s - c1*q_dot + c1*q_d_d + q_d_dd - h*s - h*beta*s)\n",
    "    \n",
    "    torque_a = torque - cal_G(q[0][0], q[1][0]) - cal_C(q_dot[0][0], q_dot[1][0], q[1][0]).dot(q_dot)\n",
    "\n",
    "    # 随机扰动\n",
    "    # error = random.random() * F_\n",
    "    # 正弦扰动\n",
    "    error = F_ * np.sin(10 *i*del_t)\n",
    "    \n",
    "    q_dot_dot = np.linalg.inv(cal_H(q[1][0])).dot(torque_a) + error\n",
    "    q_dot = q_dot + q_dot_dot * del_t\n",
    "    q = q + q_dot * del_t + 0.5 * q_dot_dot * del_t**2\n",
    "    \n",
    "    s = k1 * z1 + z2\n",
    "    s1.append(s[0][0])\n",
    "    s2.append(s[1][0])\n",
    "    q1_dot_list.append(q_dot[0][0] - q_d_d[0][0])\n",
    "    q2_dot_list.append(q_dot[1][0] - q_d_d[1][0])\n",
    "    #q1_dot_list.append(q_dot[0][0])\n",
    "    #q2_dot_list.append(q_dot[1][0])\n",
    "    q1_list.append(q[0][0] - q_d[0][0])\n",
    "    q2_list.append(q[1][0] - q_d[1][0])\n",
    "    torque1_list.append(torque[0][0])\n",
    "    torque2_list.append(torque[1][0])\n",
    "    error_list.append(error)"
   ]
  },
  {
   "cell_type": "markdown",
   "metadata": {},
   "source": [
    "# finite time terminal sliding mode (singular)"
   ]
  },
  {
   "cell_type": "code",
   "execution_count": 65,
   "metadata": {},
   "outputs": [],
   "source": [
    "q1_dot_list = []\n",
    "q2_dot_list = []\n",
    "q1_list = []\n",
    "q2_list = []\n",
    "torque1_list = []\n",
    "torque2_list = []\n",
    "s1 = []\n",
    "s2 = []\n",
    "time_list = []\n",
    "error_list = []\n",
    "\n",
    "# param\n",
    "m1 = 1\n",
    "m2 = 2\n",
    "l1 = 2\n",
    "l2 = 2\n",
    "g = 9.8\n",
    "\n",
    "\n",
    "# state\n",
    "q = np.array([[0.01], [0.01]], dtype=np.float32)\n",
    "q_dot = np.array([[0], [0]], dtype=np.float32)\n",
    "q_dot_dot = np.array([[0], [0]], dtype=np.float32)\n",
    "\n",
    "# target\n",
    "q_d = np.array([[5], [3]], dtype=np.float32)\n",
    "q_d_d = np.array([[0], [0]], dtype=np.float32)\n",
    "q_d_dd= np.array([[0], [0]], dtype=np.float32)\n",
    "\n",
    "\n",
    "\n",
    "# perturbance estimation\n",
    "F_est = 0\n",
    "F_est_dot = 0\n",
    "gama = 10\n",
    "F_ = 10\n",
    "\n",
    "c1 = 1\n",
    "p = 0.5\n",
    "\n",
    "# time interval\n",
    "del_t = 0.004\n",
    "\n",
    "for i in range(4000):\n",
    "    \n",
    "    time_list.append(i * del_t)\n",
    "    \n",
    "    # 正弦目标\n",
    "    q_d = np.ones((2,1)) * np.sin(5*i*del_t)\n",
    "    q_d_d = np.ones((2,1)) * 5 * np.cos(5*i*del_t)\n",
    "    q_d_dd = - np.ones((2,1)) * 25 * np.sin(5*i*del_t)\n",
    "    \n",
    "    # \n",
    "    q_d = np.ones((2,1)) * 1\n",
    "    q_d_d = np.ones((2,1)) * 0\n",
    "    q_d_dd = - np.ones((2,1)) * 0\n",
    "    \n",
    "    '''\n",
    "    # target state \n",
    "    t = i / 1000\n",
    "    a = 6/5\n",
    "    if( i <= 1000):\n",
    "        q_d_dd = np.array([[0], [a]], dtype=np.float32)\n",
    "        q_d_d = np.array([[0], [a*t]], dtype=np.float32)\n",
    "        q_d = np.array([[0.3], [t**2/2*a]], dtype=np.float32)\n",
    "    elif( i > 3000):\n",
    "        q_d_dd = np.array([[0], [-a]], dtype=np.float32)\n",
    "        q_d_d = np.array([[0], [4*a-a*t]], dtype=np.float32)\n",
    "        q_d = np.array([[0.3], [18/5-a/2*(4-t)**2]], dtype=np.float32)\n",
    "    elif( i > 4000):\n",
    "        q_d_dd = np.array([[0], [0]], dtype=np.float32)\n",
    "        q_d_d = np.array([[0], [0]], dtype=np.float32)\n",
    "        q_d = np.array([[0.3], [18/5]], dtype=np.float32)\n",
    "    else:\n",
    "        q_d_dd = np.array([[0], [0]], dtype=np.float32)\n",
    "        q_d_d = np.array([[0], [a]], dtype=np.float32)\n",
    "        q_d = np.array([[0.3], [a/2 + (t-1)*a]], dtype=np.float32)\n",
    "    '''\n",
    "    \n",
    "    z1_dot = q_dot - q_d_d\n",
    "    z1 = q - q_d\n",
    "    z2 = q_dot + c1 * z1 - q_d_d\n",
    "    \n",
    "    s = z2 + np.sign(z1) * abs(z1) ** p\n",
    "    \n",
    "    # control law\n",
    "    torque = cal_C(q_dot[0][0], q_dot[1][0], q[1][0]).dot(q_dot) + cal_G(q[0][0], q[1][0]) + cal_H(q[1][0]).dot(- c1*q_dot + c1*q_d_d + q_d_dd - z1_dot * abs(z1)**(p-1) * p - 0.5 * np.sign(s) * abs(s)**p)\n",
    "    \n",
    "    torque_a = torque - cal_G(q[0][0], q[1][0]) - cal_C(q_dot[0][0], q_dot[1][0], q[1][0]).dot(q_dot)\n",
    "\n",
    "    # 随机扰动\n",
    "    # error = random.random() * F_\n",
    "    # 正弦扰动\n",
    "    # error = F_ * np.sin(10 *i*del_t)\n",
    "    \n",
    "    q_dot_dot = np.linalg.inv(cal_H(q[1][0])).dot(torque_a)\n",
    "    q_dot = q_dot + q_dot_dot * del_t\n",
    "    q = q + q_dot * del_t + 0.5 * q_dot_dot * del_t**2\n",
    "    \n",
    "    s = z2 + np.sign(z1) * abs(z1) ** p\n",
    "    s1.append(s[0][0])\n",
    "    s2.append(s[1][0])\n",
    "    q1_dot_list.append(q_dot[0][0] - q_d_d[0][0])\n",
    "    q2_dot_list.append(q_dot[1][0] - q_d_d[1][0])\n",
    "    #q1_dot_list.append(q_dot[0][0])\n",
    "    #q2_dot_list.append(q_dot[1][0])\n",
    "    q1_list.append(q[0][0] - q_d[0][0])\n",
    "    q2_list.append(q[1][0] - q_d[1][0])\n",
    "    torque1_list.append(torque[0][0])\n",
    "    torque2_list.append(torque[1][0])\n",
    "    # error_list.append(error)"
   ]
  },
  {
   "cell_type": "markdown",
   "metadata": {},
   "source": [
    "# finite time terminal sliding mode (not singular)"
   ]
  },
  {
   "cell_type": "code",
   "execution_count": 58,
   "metadata": {},
   "outputs": [],
   "source": [
    "q1_dot_list = []\n",
    "q2_dot_list = []\n",
    "q1_list = []\n",
    "q2_list = []\n",
    "torque1_list = []\n",
    "torque2_list = []\n",
    "s1 = []\n",
    "s2 = []\n",
    "time_list = []\n",
    "error_list = []\n",
    "s1_rl_list = []\n",
    "s2_rl_list = []\n",
    "\n",
    "# param\n",
    "m1 = 1\n",
    "m2 = 2\n",
    "l1 = 2\n",
    "l2 = 2\n",
    "g = 9.8\n",
    "\n",
    "\n",
    "# state\n",
    "q = np.array([[0.01], [0.01]], dtype=np.float32)\n",
    "q_dot = np.array([[0], [0]], dtype=np.float32)\n",
    "q_dot_dot = np.array([[0], [0]], dtype=np.float32)\n",
    "\n",
    "# target\n",
    "q_d = np.array([[5], [3]], dtype=np.float32)\n",
    "q_d_d = np.array([[0], [0]], dtype=np.float32)\n",
    "q_d_dd= np.array([[0], [0]], dtype=np.float32)\n",
    "\n",
    "\n",
    "\n",
    "# perturbance estimation\n",
    "F_est = 0\n",
    "F_est_dot = 0\n",
    "gama = 10\n",
    "F_ = 1 \n",
    "\n",
    "c1 = 2\n",
    "g = 1.8\n",
    "p = 0.8\n",
    "\n",
    "# time interval\n",
    "del_t = 0.002\n",
    "\n",
    "\n",
    "for i in range(8000):\n",
    "    \n",
    "    time_list.append(i * del_t)\n",
    "    \n",
    "    # 正弦目标\n",
    "    q_d = np.ones((2,1)) * np.sin(5*i*del_t)\n",
    "    q_d_d = np.ones((2,1)) * 5 * np.cos(5*i*del_t)\n",
    "    q_d_dd = - np.ones((2,1)) * 25 * np.sin(5*i*del_t)\n",
    "    \n",
    "    # \n",
    "    q_d = np.ones((2,1)) * 1\n",
    "    q_d_d = np.ones((2,1)) * 0\n",
    "    q_d_dd = - np.ones((2,1)) * 0\n",
    "    \n",
    "    z1_dot = q_dot - q_d_d\n",
    "    z1 = q - q_d\n",
    "    z2 = q_dot + c1 * z1 - q_d_d\n",
    "    \n",
    "    s = z2 + np.sign(z1) * abs(z1) ** g\n",
    "    \n",
    "    # control law\n",
    "    torque = cal_C(q_dot[0][0], q_dot[1][0], q[1][0]).dot(q_dot) + cal_G(q[0][0], q[1][0]) + cal_H(q[1][0]).dot(- c1*z1_dot + q_d_dd - g*abs(z1)**(g-1)*(z2-c1*z1) -0.5*np.sign(s)*abs(s)**p)\n",
    "    \n",
    "    torque_a = torque - cal_G(q[0][0], q[1][0]) - cal_C(q_dot[0][0], q_dot[1][0], q[1][0]).dot(q_dot)\n",
    "    \n",
    "    # 随机扰动\n",
    "    # error = random.random() * F_\n",
    "    # 正弦扰动\n",
    "    # error = F_ * np.sin(10 *i*del_t)\n",
    "    \n",
    "    q_dot_dot = np.linalg.inv(cal_H(q[1][0])).dot(torque_a)\n",
    "    q_dot = q_dot + q_dot_dot * del_t\n",
    "    q = q + q_dot * del_t + 0.5 * q_dot_dot * del_t**2\n",
    "\n",
    "    \n",
    "    s = z1 + np.sign(z2) * abs(z2) ** g\n",
    "    s1.append(s[0][0])\n",
    "    s2.append(s[1][0])\n",
    "    q1_dot_list.append(q_dot[0][0] - q_d_d[0][0])\n",
    "    q2_dot_list.append(q_dot[1][0] - q_d_d[1][0])\n",
    "    #q1_dot_list.append(q_dot[0][0])\n",
    "    #q2_dot_list.append(q_dot[1][0])\n",
    "    q1_list.append(q[0][0] - q_d[0][0])\n",
    "    q2_list.append(q[1][0] - q_d[1][0])\n",
    "    torque1_list.append(torque[0][0])\n",
    "    torque2_list.append(torque[1][0])\n",
    "    # error_list.append(error)"
   ]
  },
  {
   "cell_type": "code",
   "execution_count": 59,
   "metadata": {},
   "outputs": [],
   "source": [
    "plt.rcParams['font.sans-serif']=['SimHei'] #显示中文标签\n",
    "plt.rcParams['axes.unicode_minus']=False"
   ]
  },
  {
   "cell_type": "code",
   "execution_count": 66,
   "metadata": {},
   "outputs": [
    {
     "name": "stdout",
     "output_type": "stream",
     "text": [
      "934.7888842449512 934.7888845388904\n"
     ]
    }
   ],
   "source": [
    "print( sum(abs(np.array(s1))), sum(abs(np.array(s2))) )"
   ]
  },
  {
   "cell_type": "code",
   "execution_count": 67,
   "metadata": {},
   "outputs": [
    {
     "data": {
      "text/plain": [
       "<matplotlib.legend.Legend at 0x2b4661179a0>"
      ]
     },
     "execution_count": 67,
     "metadata": {},
     "output_type": "execute_result"
    },
    {
     "data": {
      "image/png": "[encoded data removed]",
      "text/plain": [
       "<Figure size 432x288 with 1 Axes>"
      ]
     },
     "metadata": {
      "needs_background": "light"
     },
     "output_type": "display_data"
    }
   ],
   "source": [
    "plt.suptitle('Sliding mode variable')\n",
    "plt.plot(time_list, s1, label=\"s1\")\n",
    "plt.plot(time_list, s2, label=\"s2\")\n",
    "plt.xlabel('time/s')\n",
    "plt.legend()"
   ]
  },
  {
   "cell_type": "code",
   "execution_count": 71,
   "metadata": {},
   "outputs": [
    {
     "data": {
      "text/plain": [
       "<matplotlib.legend.Legend at 0x2b465f47940>"
      ]
     },
     "execution_count": 71,
     "metadata": {},
     "output_type": "execute_result"
    },
    {
     "data": {
      "image/png": "[encoded data removed]",
      "text/plain": [
       "<Figure size 432x288 with 1 Axes>"
      ]
     },
     "metadata": {
      "needs_background": "light"
     },
     "output_type": "display_data"
    }
   ],
   "source": [
    "plt.suptitle('Sliding mode variable')\n",
    "plt.plot(time_list[2000:], s1[2000:], label=\"s1\")\n",
    "plt.plot(time_list[2000:], s2[2000:], label=\"s2\")\n",
    "plt.xlabel('time/s')\n",
    "plt.legend()"
   ]
  },
  {
   "cell_type": "code",
   "execution_count": 37,
   "metadata": {},
   "outputs": [
    {
     "name": "stdout",
     "output_type": "stream",
     "text": [
      "144335.09026517585 57597.37948760307\n"
     ]
    }
   ],
   "source": [
    "print( sum(abs(np.array(torque1_list))), sum(abs(np.array(torque2_list))) )"
   ]
  },
  {
   "cell_type": "code",
   "execution_count": 38,
   "metadata": {},
   "outputs": [
    {
     "name": "stdout",
     "output_type": "stream",
     "text": [
      "556.7176515643847 180.65438884620852\n"
     ]
    }
   ],
   "source": [
    "print( sum(abs(np.array(torque1_list[1:]) - np.array(torque1_list[:-1]))), \\\n",
    "      sum(abs(np.array(torque2_list[1:]) - np.array(torque2_list[:-1]))) )"
   ]
  },
  {
   "cell_type": "code",
   "execution_count": 39,
   "metadata": {},
   "outputs": [
    {
     "data": {
      "text/plain": [
       "<matplotlib.legend.Legend at 0x2b465860310>"
      ]
     },
     "execution_count": 39,
     "metadata": {},
     "output_type": "execute_result"
    },
    {
     "data": {
      "image/png": "[encoded data removed]",
      "text/plain": [
       "<Figure size 432x288 with 1 Axes>"
      ]
     },
     "metadata": {
      "needs_background": "light"
     },
     "output_type": "display_data"
    }
   ],
   "source": [
    "plt.suptitle('Torque')\n",
    "plt.plot(time_list, torque1_list, label=\"u1\")\n",
    "plt.plot(time_list, torque2_list, label=\"u2\")\n",
    "plt.xlabel('time/s')\n",
    "plt.ylabel('N * m')\n",
    "plt.legend()"
   ]
  },
  {
   "cell_type": "code",
   "execution_count": 40,
   "metadata": {},
   "outputs": [
    {
     "name": "stdout",
     "output_type": "stream",
     "text": [
      "10175.418708092635 5338.893714209801\n"
     ]
    }
   ],
   "source": [
    "print( sum(abs(np.array(q1_list))), sum(abs(np.array(q2_list))) )"
   ]
  },
  {
   "cell_type": "code",
   "execution_count": 41,
   "metadata": {},
   "outputs": [
    {
     "data": {
      "text/plain": [
       "<matplotlib.legend.Legend at 0x2b4658be5b0>"
      ]
     },
     "execution_count": 41,
     "metadata": {},
     "output_type": "execute_result"
    },
    {
     "data": {
      "image/png": "[encoded data removed]",
      "text/plain": [
       "<Figure size 432x288 with 1 Axes>"
      ]
     },
     "metadata": {
      "needs_background": "light"
     },
     "output_type": "display_data"
    }
   ],
   "source": [
    "plt.suptitle('Angle error')\n",
    "plt.plot(time_list, q1_list, label=\"q1\")\n",
    "plt.plot(time_list, q2_list, label=\"q2\")\n",
    "plt.xlabel('time/s')\n",
    "plt.ylabel('rad')\n",
    "plt.legend()"
   ]
  },
  {
   "cell_type": "code",
   "execution_count": 42,
   "metadata": {},
   "outputs": [
    {
     "name": "stdout",
     "output_type": "stream",
     "text": [
      "34.972541643961165 23.55029492217458\n"
     ]
    }
   ],
   "source": [
    "print( sum(abs(np.array(q1_dot_list)**2)) **0.5, sum(abs(np.array(q2_dot_list)**2)) **0.5 )"
   ]
  },
  {
   "cell_type": "code",
   "execution_count": 43,
   "metadata": {},
   "outputs": [
    {
     "data": {
      "text/plain": [
       "<matplotlib.legend.Legend at 0x2b465976b20>"
      ]
     },
     "execution_count": 43,
     "metadata": {},
     "output_type": "execute_result"
    },
    {
     "data": {
      "image/png": "[encoded data removed]",
      "text/plain": [
       "<Figure size 432x288 with 1 Axes>"
      ]
     },
     "metadata": {
      "needs_background": "light"
     },
     "output_type": "display_data"
    }
   ],
   "source": [
    "plt.suptitle('Velocity Error')\n",
    "plt.plot(time_list, q1_dot_list, label=\"v1\")\n",
    "plt.plot(time_list, q2_dot_list, label=\"v2\")\n",
    "plt.xlabel('time/s')\n",
    "plt.ylabel('rad / s')\n",
    "plt.legend()"
   ]
  },
  {
   "cell_type": "code",
   "execution_count": 44,
   "metadata": {
    "scrolled": true
   },
   "outputs": [
    {
     "ename": "ValueError",
     "evalue": "x and y must have same first dimension, but have shapes (4000,) and (0,)",
     "output_type": "error",
     "traceback": [
      "\u001b[1;31m---------------------------------------------------------------------------\u001b[0m",
      "\u001b[1;31mValueError\u001b[0m                                Traceback (most recent call last)",
      "\u001b[1;32m~\\AppData\\Local\\Temp/ipykernel_58484/1742540154.py\u001b[0m in \u001b[0;36m<module>\u001b[1;34m\u001b[0m\n\u001b[0;32m      1\u001b[0m \u001b[0mplt\u001b[0m\u001b[1;33m.\u001b[0m\u001b[0msuptitle\u001b[0m\u001b[1;33m(\u001b[0m\u001b[1;34m'Perturbance'\u001b[0m\u001b[1;33m)\u001b[0m\u001b[1;33m\u001b[0m\u001b[1;33m\u001b[0m\u001b[0m\n\u001b[1;32m----> 2\u001b[1;33m \u001b[0mplt\u001b[0m\u001b[1;33m.\u001b[0m\u001b[0mplot\u001b[0m\u001b[1;33m(\u001b[0m\u001b[0mtime_list\u001b[0m\u001b[1;33m,\u001b[0m \u001b[0merror_list\u001b[0m\u001b[1;33m,\u001b[0m \u001b[0mlabel\u001b[0m\u001b[1;33m=\u001b[0m\u001b[1;34m\"perturbance\"\u001b[0m\u001b[1;33m)\u001b[0m\u001b[1;33m\u001b[0m\u001b[1;33m\u001b[0m\u001b[0m\n\u001b[0m\u001b[0;32m      3\u001b[0m \u001b[0mplt\u001b[0m\u001b[1;33m.\u001b[0m\u001b[0mxlabel\u001b[0m\u001b[1;33m(\u001b[0m\u001b[1;34m'time/s'\u001b[0m\u001b[1;33m)\u001b[0m\u001b[1;33m\u001b[0m\u001b[1;33m\u001b[0m\u001b[0m\n\u001b[0;32m      4\u001b[0m \u001b[0mplt\u001b[0m\u001b[1;33m.\u001b[0m\u001b[0mylabel\u001b[0m\u001b[1;33m(\u001b[0m\u001b[1;34m'rad/s^2'\u001b[0m\u001b[1;33m)\u001b[0m\u001b[1;33m\u001b[0m\u001b[1;33m\u001b[0m\u001b[0m\n\u001b[0;32m      5\u001b[0m \u001b[0mplt\u001b[0m\u001b[1;33m.\u001b[0m\u001b[0mlegend\u001b[0m\u001b[1;33m(\u001b[0m\u001b[1;33m)\u001b[0m\u001b[1;33m\u001b[0m\u001b[1;33m\u001b[0m\u001b[0m\n",
      "\u001b[1;32mD:\\Anaconda3\\envs\\tf-cpu\\lib\\site-packages\\matplotlib\\pyplot.py\u001b[0m in \u001b[0;36mplot\u001b[1;34m(scalex, scaley, data, *args, **kwargs)\u001b[0m\n\u001b[0;32m   2838\u001b[0m \u001b[1;33m@\u001b[0m\u001b[0m_copy_docstring_and_deprecators\u001b[0m\u001b[1;33m(\u001b[0m\u001b[0mAxes\u001b[0m\u001b[1;33m.\u001b[0m\u001b[0mplot\u001b[0m\u001b[1;33m)\u001b[0m\u001b[1;33m\u001b[0m\u001b[1;33m\u001b[0m\u001b[0m\n\u001b[0;32m   2839\u001b[0m \u001b[1;32mdef\u001b[0m \u001b[0mplot\u001b[0m\u001b[1;33m(\u001b[0m\u001b[1;33m*\u001b[0m\u001b[0margs\u001b[0m\u001b[1;33m,\u001b[0m \u001b[0mscalex\u001b[0m\u001b[1;33m=\u001b[0m\u001b[1;32mTrue\u001b[0m\u001b[1;33m,\u001b[0m \u001b[0mscaley\u001b[0m\u001b[1;33m=\u001b[0m\u001b[1;32mTrue\u001b[0m\u001b[1;33m,\u001b[0m \u001b[0mdata\u001b[0m\u001b[1;33m=\u001b[0m\u001b[1;32mNone\u001b[0m\u001b[1;33m,\u001b[0m \u001b[1;33m**\u001b[0m\u001b[0mkwargs\u001b[0m\u001b[1;33m)\u001b[0m\u001b[1;33m:\u001b[0m\u001b[1;33m\u001b[0m\u001b[1;33m\u001b[0m\u001b[0m\n\u001b[1;32m-> 2840\u001b[1;33m     return gca().plot(\n\u001b[0m\u001b[0;32m   2841\u001b[0m         \u001b[1;33m*\u001b[0m\u001b[0margs\u001b[0m\u001b[1;33m,\u001b[0m \u001b[0mscalex\u001b[0m\u001b[1;33m=\u001b[0m\u001b[0mscalex\u001b[0m\u001b[1;33m,\u001b[0m \u001b[0mscaley\u001b[0m\u001b[1;33m=\u001b[0m\u001b[0mscaley\u001b[0m\u001b[1;33m,\u001b[0m\u001b[1;33m\u001b[0m\u001b[1;33m\u001b[0m\u001b[0m\n\u001b[0;32m   2842\u001b[0m         **({\"data\": data} if data is not None else {}), **kwargs)\n",
      "\u001b[1;32mD:\\Anaconda3\\envs\\tf-cpu\\lib\\site-packages\\matplotlib\\axes\\_axes.py\u001b[0m in \u001b[0;36mplot\u001b[1;34m(self, scalex, scaley, data, *args, **kwargs)\u001b[0m\n\u001b[0;32m   1741\u001b[0m         \"\"\"\n\u001b[0;32m   1742\u001b[0m         \u001b[0mkwargs\u001b[0m \u001b[1;33m=\u001b[0m \u001b[0mcbook\u001b[0m\u001b[1;33m.\u001b[0m\u001b[0mnormalize_kwargs\u001b[0m\u001b[1;33m(\u001b[0m\u001b[0mkwargs\u001b[0m\u001b[1;33m,\u001b[0m \u001b[0mmlines\u001b[0m\u001b[1;33m.\u001b[0m\u001b[0mLine2D\u001b[0m\u001b[1;33m)\u001b[0m\u001b[1;33m\u001b[0m\u001b[1;33m\u001b[0m\u001b[0m\n\u001b[1;32m-> 1743\u001b[1;33m         \u001b[0mlines\u001b[0m \u001b[1;33m=\u001b[0m \u001b[1;33m[\u001b[0m\u001b[1;33m*\u001b[0m\u001b[0mself\u001b[0m\u001b[1;33m.\u001b[0m\u001b[0m_get_lines\u001b[0m\u001b[1;33m(\u001b[0m\u001b[1;33m*\u001b[0m\u001b[0margs\u001b[0m\u001b[1;33m,\u001b[0m \u001b[0mdata\u001b[0m\u001b[1;33m=\u001b[0m\u001b[0mdata\u001b[0m\u001b[1;33m,\u001b[0m \u001b[1;33m**\u001b[0m\u001b[0mkwargs\u001b[0m\u001b[1;33m)\u001b[0m\u001b[1;33m]\u001b[0m\u001b[1;33m\u001b[0m\u001b[1;33m\u001b[0m\u001b[0m\n\u001b[0m\u001b[0;32m   1744\u001b[0m         \u001b[1;32mfor\u001b[0m \u001b[0mline\u001b[0m \u001b[1;32min\u001b[0m \u001b[0mlines\u001b[0m\u001b[1;33m:\u001b[0m\u001b[1;33m\u001b[0m\u001b[1;33m\u001b[0m\u001b[0m\n\u001b[0;32m   1745\u001b[0m             \u001b[0mself\u001b[0m\u001b[1;33m.\u001b[0m\u001b[0madd_line\u001b[0m\u001b[1;33m(\u001b[0m\u001b[0mline\u001b[0m\u001b[1;33m)\u001b[0m\u001b[1;33m\u001b[0m\u001b[1;33m\u001b[0m\u001b[0m\n",
      "\u001b[1;32mD:\\Anaconda3\\envs\\tf-cpu\\lib\\site-packages\\matplotlib\\axes\\_base.py\u001b[0m in \u001b[0;36m__call__\u001b[1;34m(self, data, *args, **kwargs)\u001b[0m\n\u001b[0;32m    271\u001b[0m                 \u001b[0mthis\u001b[0m \u001b[1;33m+=\u001b[0m \u001b[0margs\u001b[0m\u001b[1;33m[\u001b[0m\u001b[1;36m0\u001b[0m\u001b[1;33m]\u001b[0m\u001b[1;33m,\u001b[0m\u001b[1;33m\u001b[0m\u001b[1;33m\u001b[0m\u001b[0m\n\u001b[0;32m    272\u001b[0m                 \u001b[0margs\u001b[0m \u001b[1;33m=\u001b[0m \u001b[0margs\u001b[0m\u001b[1;33m[\u001b[0m\u001b[1;36m1\u001b[0m\u001b[1;33m:\u001b[0m\u001b[1;33m]\u001b[0m\u001b[1;33m\u001b[0m\u001b[1;33m\u001b[0m\u001b[0m\n\u001b[1;32m--> 273\u001b[1;33m             \u001b[1;32myield\u001b[0m \u001b[1;32mfrom\u001b[0m \u001b[0mself\u001b[0m\u001b[1;33m.\u001b[0m\u001b[0m_plot_args\u001b[0m\u001b[1;33m(\u001b[0m\u001b[0mthis\u001b[0m\u001b[1;33m,\u001b[0m \u001b[0mkwargs\u001b[0m\u001b[1;33m)\u001b[0m\u001b[1;33m\u001b[0m\u001b[1;33m\u001b[0m\u001b[0m\n\u001b[0m\u001b[0;32m    274\u001b[0m \u001b[1;33m\u001b[0m\u001b[0m\n\u001b[0;32m    275\u001b[0m     \u001b[1;32mdef\u001b[0m \u001b[0mget_next_color\u001b[0m\u001b[1;33m(\u001b[0m\u001b[0mself\u001b[0m\u001b[1;33m)\u001b[0m\u001b[1;33m:\u001b[0m\u001b[1;33m\u001b[0m\u001b[1;33m\u001b[0m\u001b[0m\n",
      "\u001b[1;32mD:\\Anaconda3\\envs\\tf-cpu\\lib\\site-packages\\matplotlib\\axes\\_base.py\u001b[0m in \u001b[0;36m_plot_args\u001b[1;34m(self, tup, kwargs)\u001b[0m\n\u001b[0;32m    397\u001b[0m \u001b[1;33m\u001b[0m\u001b[0m\n\u001b[0;32m    398\u001b[0m         \u001b[1;32mif\u001b[0m \u001b[0mx\u001b[0m\u001b[1;33m.\u001b[0m\u001b[0mshape\u001b[0m\u001b[1;33m[\u001b[0m\u001b[1;36m0\u001b[0m\u001b[1;33m]\u001b[0m \u001b[1;33m!=\u001b[0m \u001b[0my\u001b[0m\u001b[1;33m.\u001b[0m\u001b[0mshape\u001b[0m\u001b[1;33m[\u001b[0m\u001b[1;36m0\u001b[0m\u001b[1;33m]\u001b[0m\u001b[1;33m:\u001b[0m\u001b[1;33m\u001b[0m\u001b[1;33m\u001b[0m\u001b[0m\n\u001b[1;32m--> 399\u001b[1;33m             raise ValueError(f\"x and y must have same first dimension, but \"\n\u001b[0m\u001b[0;32m    400\u001b[0m                              f\"have shapes {x.shape} and {y.shape}\")\n\u001b[0;32m    401\u001b[0m         \u001b[1;32mif\u001b[0m \u001b[0mx\u001b[0m\u001b[1;33m.\u001b[0m\u001b[0mndim\u001b[0m \u001b[1;33m>\u001b[0m \u001b[1;36m2\u001b[0m \u001b[1;32mor\u001b[0m \u001b[0my\u001b[0m\u001b[1;33m.\u001b[0m\u001b[0mndim\u001b[0m \u001b[1;33m>\u001b[0m \u001b[1;36m2\u001b[0m\u001b[1;33m:\u001b[0m\u001b[1;33m\u001b[0m\u001b[1;33m\u001b[0m\u001b[0m\n",
      "\u001b[1;31mValueError\u001b[0m: x and y must have same first dimension, but have shapes (4000,) and (0,)"
     ]
    },
    {
     "data": {
      "image/png": "[encoded data removed]",
      "text/plain": [
       "<Figure size 432x288 with 1 Axes>"
      ]
     },
     "metadata": {
      "needs_background": "light"
     },
     "output_type": "display_data"
    }
   ],
   "source": [
    "plt.suptitle('Perturbance')\n",
    "plt.plot(time_list, error_list, label=\"perturbance\")\n",
    "plt.xlabel('time/s')\n",
    "plt.ylabel('rad/s^2')\n",
    "plt.legend()"
   ]
  },
  {
   "cell_type": "code",
   "execution_count": null,
   "metadata": {},
   "outputs": [],
   "source": [
    "np.arctan(5) * 180 / np.pi"
   ]
  },
  {
   "cell_type": "code",
   "execution_count": null,
   "metadata": {},
   "outputs": [],
   "source": [
    "float(np.infty)"
   ]
  },
  {
   "cell_type": "code",
   "execution_count": null,
   "metadata": {},
   "outputs": [],
   "source": []
  }
 ],
 "metadata": {
  "kernelspec": {
   "display_name": "Python 3 (ipykernel)",
   "language": "python",
   "name": "python3"
  },
  "language_info": {
   "codemirror_mode": {
    "name": "ipython",
    "version": 3
   },
   "file_extension": ".py",
   "mimetype": "text/x-python",
   "name": "python",
   "nbconvert_exporter": "python",
   "pygments_lexer": "ipython3",
   "version": "3.8.5"
  }
 },
 "nbformat": 4,
 "nbformat_minor": 4
}
